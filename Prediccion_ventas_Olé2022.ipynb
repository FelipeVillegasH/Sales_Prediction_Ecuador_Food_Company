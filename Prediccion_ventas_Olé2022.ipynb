{
  "cells": [
    {
      "cell_type": "markdown",
      "metadata": {
        "id": "view-in-github",
        "colab_type": "text"
      },
      "source": [
        "<a href=\"https://colab.research.google.com/github/FelipeVillegasH/Sales_Prediction_Ecuador_Food_Company/blob/main/Prediccion_ventas_Ol%C3%A92022.ipynb\" target=\"_parent\"><img src=\"https://colab.research.google.com/assets/colab-badge.svg\" alt=\"Open In Colab\"/></a>"
      ]
    },
    {
      "cell_type": "markdown",
      "metadata": {
        "id": "0CDM5HCJnlNW"
      },
      "source": [
        "Predicciones En ventas Ole"
      ]
    },
    {
      "cell_type": "code",
      "execution_count": null,
      "metadata": {
        "id": "T80SwdmdlFlZ"
      },
      "outputs": [],
      "source": [
        "import pandas as pd\n",
        "import numpy as np\n",
        "import matplotlib.pyplot as plt\n",
        "import seaborn as sns\n"
      ]
    },
    {
      "cell_type": "code",
      "execution_count": null,
      "metadata": {
        "colab": {
          "base_uri": "https://localhost:8080/"
        },
        "id": "tK4AW3K6lsBB",
        "outputId": "8042777d-7648-4683-eeb4-fdf1be1382c0"
      },
      "outputs": [
        {
          "name": "stdout",
          "output_type": "stream",
          "text": [
            "Mounted at /content/drive\n"
          ]
        }
      ],
      "source": [
        "from google.colab import drive\n",
        "drive.mount('/content/drive')"
      ]
    },
    {
      "cell_type": "code",
      "execution_count": null,
      "metadata": {
        "colab": {
          "base_uri": "https://localhost:8080/",
          "height": 548
        },
        "id": "GFhsb5eolyfh",
        "outputId": "5557d0e8-6150-43d7-9a1c-d54233d83058"
      },
      "outputs": [
        {
          "data": {
            "text/html": [
              "\n",
              "  <div id=\"df-f804247e-ccb5-4abf-a880-bd39d6eb2251\">\n",
              "    <div class=\"colab-df-container\">\n",
              "      <div>\n",
              "<style scoped>\n",
              "    .dataframe tbody tr th:only-of-type {\n",
              "        vertical-align: middle;\n",
              "    }\n",
              "\n",
              "    .dataframe tbody tr th {\n",
              "        vertical-align: top;\n",
              "    }\n",
              "\n",
              "    .dataframe thead th {\n",
              "        text-align: right;\n",
              "    }\n",
              "</style>\n",
              "<table border=\"1\" class=\"dataframe\">\n",
              "  <thead>\n",
              "    <tr style=\"text-align: right;\">\n",
              "      <th></th>\n",
              "      <th>Unnamed: 0</th>\n",
              "      <th>Unnamed: 1</th>\n",
              "      <th>Unnamed: 2</th>\n",
              "      <th>Unnamed: 3</th>\n",
              "      <th>Account</th>\n",
              "      <th>Type</th>\n",
              "      <th>Date</th>\n",
              "      <th>Num</th>\n",
              "      <th>Name</th>\n",
              "      <th>Item</th>\n",
              "      <th>Code</th>\n",
              "      <th>Item Description</th>\n",
              "      <th>Memo</th>\n",
              "      <th>Qty</th>\n",
              "      <th>U/M</th>\n",
              "      <th>Debit</th>\n",
              "      <th>Credit</th>\n",
              "      <th>Balance</th>\n",
              "    </tr>\n",
              "  </thead>\n",
              "  <tbody>\n",
              "    <tr>\n",
              "      <th>0</th>\n",
              "      <td>NaN</td>\n",
              "      <td>41 · VENTAS</td>\n",
              "      <td>NaN</td>\n",
              "      <td>NaN</td>\n",
              "      <td>NaN</td>\n",
              "      <td>NaN</td>\n",
              "      <td>NaT</td>\n",
              "      <td>NaN</td>\n",
              "      <td>NaN</td>\n",
              "      <td>NaN</td>\n",
              "      <td>NaN</td>\n",
              "      <td>NaN</td>\n",
              "      <td>NaN</td>\n",
              "      <td>NaN</td>\n",
              "      <td>NaN</td>\n",
              "      <td>NaN</td>\n",
              "      <td>NaN</td>\n",
              "      <td>NaN</td>\n",
              "    </tr>\n",
              "    <tr>\n",
              "      <th>1</th>\n",
              "      <td>NaN</td>\n",
              "      <td>NaN</td>\n",
              "      <td>4100001 · ING - Ventas  Salsas</td>\n",
              "      <td>NaN</td>\n",
              "      <td>NaN</td>\n",
              "      <td>NaN</td>\n",
              "      <td>NaT</td>\n",
              "      <td>NaN</td>\n",
              "      <td>NaN</td>\n",
              "      <td>NaN</td>\n",
              "      <td>NaN</td>\n",
              "      <td>NaN</td>\n",
              "      <td>NaN</td>\n",
              "      <td>NaN</td>\n",
              "      <td>NaN</td>\n",
              "      <td>NaN</td>\n",
              "      <td>NaN</td>\n",
              "      <td>NaN</td>\n",
              "    </tr>\n",
              "    <tr>\n",
              "      <th>2</th>\n",
              "      <td>NaN</td>\n",
              "      <td>NaN</td>\n",
              "      <td>NaN</td>\n",
              "      <td>NaN</td>\n",
              "      <td>4100001 · ING - Ventas  Salsas</td>\n",
              "      <td>Invoice</td>\n",
              "      <td>2019-07-01</td>\n",
              "      <td>3524</td>\n",
              "      <td>GERARDO ORTIZ E HIJOS CIA. LTDA.</td>\n",
              "      <td>P.T:110213 (AJÍ ANDINO A LAS FINAS HIERBAS 250G)</td>\n",
              "      <td>110213</td>\n",
              "      <td>AJÍ ANDINO A LAS FINAS HIERBAS 250G</td>\n",
              "      <td>AJI GOURMET 250cc</td>\n",
              "      <td>1.0</td>\n",
              "      <td>[X 12]</td>\n",
              "      <td>NaN</td>\n",
              "      <td>19.92</td>\n",
              "      <td>19.92</td>\n",
              "    </tr>\n",
              "    <tr>\n",
              "      <th>3</th>\n",
              "      <td>NaN</td>\n",
              "      <td>NaN</td>\n",
              "      <td>NaN</td>\n",
              "      <td>NaN</td>\n",
              "      <td>4100001 · ING - Ventas  Salsas</td>\n",
              "      <td>Invoice</td>\n",
              "      <td>2019-07-01</td>\n",
              "      <td>3524</td>\n",
              "      <td>GERARDO ORTIZ E HIJOS CIA. LTDA.</td>\n",
              "      <td>P.T:110700 (CHIMICHURRI OLE 230G)</td>\n",
              "      <td>110700</td>\n",
              "      <td>CHIMICHURRI OLE 230G</td>\n",
              "      <td>CHIMICHURRI 230g</td>\n",
              "      <td>1.0</td>\n",
              "      <td>[X 12]</td>\n",
              "      <td>NaN</td>\n",
              "      <td>24.96</td>\n",
              "      <td>44.88</td>\n",
              "    </tr>\n",
              "    <tr>\n",
              "      <th>4</th>\n",
              "      <td>NaN</td>\n",
              "      <td>NaN</td>\n",
              "      <td>NaN</td>\n",
              "      <td>NaN</td>\n",
              "      <td>4100001 · ING - Ventas  Salsas</td>\n",
              "      <td>Invoice</td>\n",
              "      <td>2019-07-01</td>\n",
              "      <td>3524</td>\n",
              "      <td>GERARDO ORTIZ E HIJOS CIA. LTDA.</td>\n",
              "      <td>P.T:110714 (SALSA PARA SPAGHETTI RUSTICA OLE 4...</td>\n",
              "      <td>110714</td>\n",
              "      <td>SALSA PARA SPAGHETTI RUSTICA OLE 450G</td>\n",
              "      <td>SALSA SPAGHETTI RÚSTICA 450g</td>\n",
              "      <td>1.0</td>\n",
              "      <td>[X 12]</td>\n",
              "      <td>NaN</td>\n",
              "      <td>32.76</td>\n",
              "      <td>77.64</td>\n",
              "    </tr>\n",
              "  </tbody>\n",
              "</table>\n",
              "</div>\n",
              "      <button class=\"colab-df-convert\" onclick=\"convertToInteractive('df-f804247e-ccb5-4abf-a880-bd39d6eb2251')\"\n",
              "              title=\"Convert this dataframe to an interactive table.\"\n",
              "              style=\"display:none;\">\n",
              "        \n",
              "  <svg xmlns=\"http://www.w3.org/2000/svg\" height=\"24px\"viewBox=\"0 0 24 24\"\n",
              "       width=\"24px\">\n",
              "    <path d=\"M0 0h24v24H0V0z\" fill=\"none\"/>\n",
              "    <path d=\"M18.56 5.44l.94 2.06.94-2.06 2.06-.94-2.06-.94-.94-2.06-.94 2.06-2.06.94zm-11 1L8.5 8.5l.94-2.06 2.06-.94-2.06-.94L8.5 2.5l-.94 2.06-2.06.94zm10 10l.94 2.06.94-2.06 2.06-.94-2.06-.94-.94-2.06-.94 2.06-2.06.94z\"/><path d=\"M17.41 7.96l-1.37-1.37c-.4-.4-.92-.59-1.43-.59-.52 0-1.04.2-1.43.59L10.3 9.45l-7.72 7.72c-.78.78-.78 2.05 0 2.83L4 21.41c.39.39.9.59 1.41.59.51 0 1.02-.2 1.41-.59l7.78-7.78 2.81-2.81c.8-.78.8-2.07 0-2.86zM5.41 20L4 18.59l7.72-7.72 1.47 1.35L5.41 20z\"/>\n",
              "  </svg>\n",
              "      </button>\n",
              "      \n",
              "  <style>\n",
              "    .colab-df-container {\n",
              "      display:flex;\n",
              "      flex-wrap:wrap;\n",
              "      gap: 12px;\n",
              "    }\n",
              "\n",
              "    .colab-df-convert {\n",
              "      background-color: #E8F0FE;\n",
              "      border: none;\n",
              "      border-radius: 50%;\n",
              "      cursor: pointer;\n",
              "      display: none;\n",
              "      fill: #1967D2;\n",
              "      height: 32px;\n",
              "      padding: 0 0 0 0;\n",
              "      width: 32px;\n",
              "    }\n",
              "\n",
              "    .colab-df-convert:hover {\n",
              "      background-color: #E2EBFA;\n",
              "      box-shadow: 0px 1px 2px rgba(60, 64, 67, 0.3), 0px 1px 3px 1px rgba(60, 64, 67, 0.15);\n",
              "      fill: #174EA6;\n",
              "    }\n",
              "\n",
              "    [theme=dark] .colab-df-convert {\n",
              "      background-color: #3B4455;\n",
              "      fill: #D2E3FC;\n",
              "    }\n",
              "\n",
              "    [theme=dark] .colab-df-convert:hover {\n",
              "      background-color: #434B5C;\n",
              "      box-shadow: 0px 1px 3px 1px rgba(0, 0, 0, 0.15);\n",
              "      filter: drop-shadow(0px 1px 2px rgba(0, 0, 0, 0.3));\n",
              "      fill: #FFFFFF;\n",
              "    }\n",
              "  </style>\n",
              "\n",
              "      <script>\n",
              "        const buttonEl =\n",
              "          document.querySelector('#df-f804247e-ccb5-4abf-a880-bd39d6eb2251 button.colab-df-convert');\n",
              "        buttonEl.style.display =\n",
              "          google.colab.kernel.accessAllowed ? 'block' : 'none';\n",
              "\n",
              "        async function convertToInteractive(key) {\n",
              "          const element = document.querySelector('#df-f804247e-ccb5-4abf-a880-bd39d6eb2251');\n",
              "          const dataTable =\n",
              "            await google.colab.kernel.invokeFunction('convertToInteractive',\n",
              "                                                     [key], {});\n",
              "          if (!dataTable) return;\n",
              "\n",
              "          const docLinkHtml = 'Like what you see? Visit the ' +\n",
              "            '<a target=\"_blank\" href=https://colab.research.google.com/notebooks/data_table.ipynb>data table notebook</a>'\n",
              "            + ' to learn more about interactive tables.';\n",
              "          element.innerHTML = '';\n",
              "          dataTable['output_type'] = 'display_data';\n",
              "          await google.colab.output.renderOutput(dataTable, element);\n",
              "          const docLink = document.createElement('div');\n",
              "          docLink.innerHTML = docLinkHtml;\n",
              "          element.appendChild(docLink);\n",
              "        }\n",
              "      </script>\n",
              "    </div>\n",
              "  </div>\n",
              "  "
            ],
            "text/plain": [
              "  Unnamed: 0   Unnamed: 1                      Unnamed: 2  Unnamed: 3  \\\n",
              "0        NaN  41 · VENTAS                             NaN         NaN   \n",
              "1        NaN          NaN  4100001 · ING - Ventas  Salsas         NaN   \n",
              "2        NaN          NaN                             NaN         NaN   \n",
              "3        NaN          NaN                             NaN         NaN   \n",
              "4        NaN          NaN                             NaN         NaN   \n",
              "\n",
              "                          Account     Type       Date   Num  \\\n",
              "0                             NaN      NaN        NaT   NaN   \n",
              "1                             NaN      NaN        NaT   NaN   \n",
              "2  4100001 · ING - Ventas  Salsas  Invoice 2019-07-01  3524   \n",
              "3  4100001 · ING - Ventas  Salsas  Invoice 2019-07-01  3524   \n",
              "4  4100001 · ING - Ventas  Salsas  Invoice 2019-07-01  3524   \n",
              "\n",
              "                               Name  \\\n",
              "0                               NaN   \n",
              "1                               NaN   \n",
              "2  GERARDO ORTIZ E HIJOS CIA. LTDA.   \n",
              "3  GERARDO ORTIZ E HIJOS CIA. LTDA.   \n",
              "4  GERARDO ORTIZ E HIJOS CIA. LTDA.   \n",
              "\n",
              "                                                Item    Code  \\\n",
              "0                                                NaN     NaN   \n",
              "1                                                NaN     NaN   \n",
              "2   P.T:110213 (AJÍ ANDINO A LAS FINAS HIERBAS 250G)  110213   \n",
              "3                  P.T:110700 (CHIMICHURRI OLE 230G)  110700   \n",
              "4  P.T:110714 (SALSA PARA SPAGHETTI RUSTICA OLE 4...  110714   \n",
              "\n",
              "                        Item Description                          Memo  Qty  \\\n",
              "0                                    NaN                           NaN  NaN   \n",
              "1                                    NaN                           NaN  NaN   \n",
              "2    AJÍ ANDINO A LAS FINAS HIERBAS 250G             AJI GOURMET 250cc  1.0   \n",
              "3                   CHIMICHURRI OLE 230G              CHIMICHURRI 230g  1.0   \n",
              "4  SALSA PARA SPAGHETTI RUSTICA OLE 450G  SALSA SPAGHETTI RÚSTICA 450g  1.0   \n",
              "\n",
              "      U/M  Debit  Credit  Balance  \n",
              "0     NaN    NaN     NaN      NaN  \n",
              "1     NaN    NaN     NaN      NaN  \n",
              "2  [X 12]    NaN   19.92    19.92  \n",
              "3  [X 12]    NaN   24.96    44.88  \n",
              "4  [X 12]    NaN   32.76    77.64  "
            ]
          },
          "execution_count": 3,
          "metadata": {},
          "output_type": "execute_result"
        }
      ],
      "source": [
        "df = pd.read_excel('/content/drive/MyDrive/Olé/Clasificación Ventas por Cliente /Ventas_36_meses (1).xlsx')\n",
        "df.head()"
      ]
    },
    {
      "cell_type": "code",
      "execution_count": null,
      "metadata": {
        "colab": {
          "base_uri": "https://localhost:8080/"
        },
        "id": "9R5PxOQ5l-T_",
        "outputId": "013d39f9-63c9-4df6-8690-b9ab57a751f0"
      },
      "outputs": [
        {
          "name": "stdout",
          "output_type": "stream",
          "text": [
            "<class 'pandas.core.frame.DataFrame'>\n",
            "RangeIndex: 67209 entries, 0 to 67208\n",
            "Data columns (total 18 columns):\n",
            " #   Column            Non-Null Count  Dtype         \n",
            "---  ------            --------------  -----         \n",
            " 0   Unnamed: 0        1 non-null      object        \n",
            " 1   Unnamed: 1        8 non-null      object        \n",
            " 2   Unnamed: 2        28 non-null     object        \n",
            " 3   Unnamed: 3        0 non-null      float64       \n",
            " 4   Account           67172 non-null  object        \n",
            " 5   Type              67172 non-null  object        \n",
            " 6   Date              67172 non-null  datetime64[ns]\n",
            " 7   Num               67172 non-null  object        \n",
            " 8   Name              67115 non-null  object        \n",
            " 9   Item              66261 non-null  object        \n",
            " 10  Code              66096 non-null  object        \n",
            " 11  Item Description  66096 non-null  object        \n",
            " 12  Memo              67163 non-null  object        \n",
            " 13  Qty               66261 non-null  float64       \n",
            " 14  U/M               55196 non-null  object        \n",
            " 15  Debit             14711 non-null  float64       \n",
            " 16  Credit            52499 non-null  float64       \n",
            " 17  Balance           67191 non-null  float64       \n",
            "dtypes: datetime64[ns](1), float64(5), object(12)\n",
            "memory usage: 9.2+ MB\n"
          ]
        }
      ],
      "source": [
        "df.info()"
      ]
    },
    {
      "cell_type": "code",
      "execution_count": null,
      "metadata": {
        "colab": {
          "base_uri": "https://localhost:8080/"
        },
        "id": "BQ2wYJiImDjj",
        "outputId": "4a88b324-bef4-4c73-c4ac-a0ce2e74837c"
      },
      "outputs": [
        {
          "data": {
            "text/plain": [
              "Unnamed: 0          67208\n",
              "Unnamed: 1          67201\n",
              "Unnamed: 2          67181\n",
              "Unnamed: 3          67209\n",
              "Account                37\n",
              "Type                   37\n",
              "Date                   37\n",
              "Num                    37\n",
              "Name                   94\n",
              "Item                  948\n",
              "Code                 1113\n",
              "Item Description     1113\n",
              "Memo                   46\n",
              "Qty                   948\n",
              "U/M                 12013\n",
              "Debit               52498\n",
              "Credit              14710\n",
              "Balance                18\n",
              "dtype: int64"
            ]
          },
          "execution_count": 5,
          "metadata": {},
          "output_type": "execute_result"
        }
      ],
      "source": [
        "df.isnull().sum()"
      ]
    },
    {
      "cell_type": "code",
      "execution_count": null,
      "metadata": {
        "colab": {
          "base_uri": "https://localhost:8080/"
        },
        "id": "KLZV3ik1SNpB",
        "outputId": "3382f7a7-e4ae-4d13-acc1-7aad543cc287"
      },
      "outputs": [
        {
          "data": {
            "text/plain": [
              "TOTAL    1\n",
              "Name: Unnamed: 0, dtype: int64"
            ]
          },
          "execution_count": 6,
          "metadata": {},
          "output_type": "execute_result"
        }
      ],
      "source": [
        "df['Unnamed: 0'].value_counts()"
      ]
    },
    {
      "cell_type": "code",
      "execution_count": null,
      "metadata": {
        "colab": {
          "base_uri": "https://localhost:8080/"
        },
        "id": "c2gGzxkpSZgk",
        "outputId": "1d3a3bf7-f63e-49e7-8ded-c071f67716f5"
      },
      "outputs": [
        {
          "data": {
            "text/plain": [
              "41 · VENTAS                            1\n",
              "Total 41 · VENTAS                      1\n",
              "42 · DEVOLUCIONES                      1\n",
              "Total 42 · DEVOLUCIONES                1\n",
              "43 · DESCUENTOS Y PROMOCIONES          1\n",
              "Total 43 · DESCUENTOS Y PROMOCIONES    1\n",
              "44 · OTROS INGRESOS                    1\n",
              "Total 44 · OTROS INGRESOS              1\n",
              "Name: Unnamed: 1, dtype: int64"
            ]
          },
          "execution_count": 7,
          "metadata": {},
          "output_type": "execute_result"
        }
      ],
      "source": [
        "df['Unnamed: 1'].value_counts()"
      ]
    },
    {
      "cell_type": "code",
      "execution_count": null,
      "metadata": {
        "colab": {
          "base_uri": "https://localhost:8080/"
        },
        "id": "5Bj5Uq4pSdQM",
        "outputId": "e4188b07-5b98-4f30-cb1a-0f0d8ed9cab8"
      },
      "outputs": [
        {
          "data": {
            "text/plain": [
              "4100001 · ING - Ventas  Salsas                  1\n",
              "Total 4100001 · ING - Ventas  Salsas            1\n",
              "4400006 · NOP - Cadena De Valor                 1\n",
              "Total 4400005 · NOP - Recup. Reciclaje          1\n",
              "4400005 · NOP - Recup. Reciclaje                1\n",
              "Total 4400004 · NOP - Otros Ingresos            1\n",
              "4400004 · NOP - Otros Ingresos                  1\n",
              "Total 4400001 · NOP -  Servicio de Logistica    1\n",
              "4400001 · NOP -  Servicio de Logistica          1\n",
              "Total 4400000 · NOP - Pronto Pago               1\n",
              "4400000 · NOP - Pronto Pago                     1\n",
              "Total 4300004 · DES -  Venta Comercializados    1\n",
              "4300004 · DES -  Venta Comercializados          1\n",
              "Total 4300003 · DES -  Venta Snacks             1\n",
              "4300003 · DES -  Venta Snacks                   1\n",
              "Total 4300001 · DES -  Venta Salsas             1\n",
              "4300001 · DES -  Venta Salsas                   1\n",
              "Total 4200003 · DEV -  Venta Comercializados    1\n",
              "4200003 · DEV -  Venta Comercializados          1\n",
              "Total 4200002 · DEV -  Venta Snack              1\n",
              "4200002 · DEV -  Venta Snack                    1\n",
              "Total 4200001 · DEV -  Venta Salsas             1\n",
              "4200001 · DEV -  Venta Salsas                   1\n",
              "Total 4100003 · ING - Ventas Comercializados    1\n",
              "4100003 · ING - Ventas Comercializados          1\n",
              "Total 4100002 · ING - Ventas Snacks             1\n",
              "4100002 · ING - Ventas Snacks                   1\n",
              "Total 4400006 · NOP - Cadena De Valor           1\n",
              "Name: Unnamed: 2, dtype: int64"
            ]
          },
          "execution_count": 8,
          "metadata": {},
          "output_type": "execute_result"
        }
      ],
      "source": [
        "df['Unnamed: 2'].value_counts()"
      ]
    },
    {
      "cell_type": "code",
      "execution_count": null,
      "metadata": {
        "colab": {
          "base_uri": "https://localhost:8080/"
        },
        "id": "_qRMm6x-Sfn0",
        "outputId": "25cabfde-74a9-4664-bfc7-68928a942c80"
      },
      "outputs": [
        {
          "data": {
            "text/plain": [
              "Series([], Name: Unnamed: 3, dtype: int64)"
            ]
          },
          "execution_count": 9,
          "metadata": {},
          "output_type": "execute_result"
        }
      ],
      "source": [
        "df['Unnamed: 3'].value_counts()"
      ]
    },
    {
      "cell_type": "markdown",
      "metadata": {
        "id": "eFdgdJOCSAvg"
      },
      "source": [
        "# Partimos en la depuracion del dataframe eliminando las filas que contienen los totales de las cuentas, en este caso las columnas Unnamed: 0,1,2,3. Adicionalmente eliminamos las variables con datos irrelevantes o repetidos en las columnas de Item Description y Memo, se utiliza solo la variable de Item despues de haber acordado con Vero."
      ]
    },
    {
      "cell_type": "code",
      "execution_count": null,
      "metadata": {
        "id": "LBqArVO7T5ip"
      },
      "outputs": [],
      "source": [
        "df.drop(columns = ['Unnamed: 0','Unnamed: 1','Unnamed: 2','Unnamed: 3','Balance','Item Description','Memo','Num'], inplace = True)"
      ]
    },
    {
      "cell_type": "markdown",
      "metadata": {
        "id": "qbltZiNvT5zV"
      },
      "source": [
        "Despues eliminamos los valores de estas columas en el resto del data frame por medio de los valores vacios en la columna de Tipo, la cual a su vez se refiere al tipo de transaccion, ya sea nota de credito , debito, ventas, entre otros. "
      ]
    },
    {
      "cell_type": "code",
      "execution_count": null,
      "metadata": {
        "colab": {
          "base_uri": "https://localhost:8080/"
        },
        "id": "21rRKcuUNkNV",
        "outputId": "2318501d-3bbc-40db-ef29-3cf6e1631e61"
      },
      "outputs": [
        {
          "data": {
            "text/plain": [
              "Invoice             59971\n",
              "Credit Memo          5022\n",
              "Bill                 1268\n",
              "General Journal       893\n",
              "Credit                  8\n",
              "Paycheck                8\n",
              "Inventory Adjust        1\n",
              "Payment                 1\n",
              "Name: Type, dtype: int64"
            ]
          },
          "execution_count": 11,
          "metadata": {},
          "output_type": "execute_result"
        }
      ],
      "source": [
        "df['Type'].value_counts()\n",
        "# Invoice: Facturas de venta\n",
        "# Bill: Facturas de compra \n",
        "# Credit: Notas de credito de proveedores emitidas a Ole \n",
        "# Credit Memo: Notas de credito emitidas \n",
        "# las Filas de General Journal, Paycheck, Inventory Adjust, Payment, se eliminan ya que no aportan valor estadistico. \n",
        "# hay descuentos que llegan por notas de credito y no se atan por codigo o por numero, "
      ]
    },
    {
      "cell_type": "code",
      "execution_count": null,
      "metadata": {
        "colab": {
          "base_uri": "https://localhost:8080/"
        },
        "id": "IwZUMRnWU6S6",
        "outputId": "56c01a5e-7618-4f87-d662-68e1fc01866a"
      },
      "outputs": [
        {
          "data": {
            "text/plain": [
              "37"
            ]
          },
          "execution_count": 12,
          "metadata": {},
          "output_type": "execute_result"
        }
      ],
      "source": [
        "df['Type'].isna().sum()"
      ]
    },
    {
      "cell_type": "code",
      "execution_count": null,
      "metadata": {
        "id": "67xl1Dccr576"
      },
      "outputs": [],
      "source": [
        "df=df[df['Type'].isin(['Invoice','Credit Memo','Bill','Credit'])]\n"
      ]
    },
    {
      "cell_type": "code",
      "execution_count": null,
      "metadata": {
        "colab": {
          "base_uri": "https://localhost:8080/"
        },
        "id": "XZR2spC_fsmD",
        "outputId": "26a5bd27-71f8-41ef-f8e1-c7e9db6f5d71"
      },
      "outputs": [
        {
          "data": {
            "text/plain": [
              "0"
            ]
          },
          "execution_count": 14,
          "metadata": {},
          "output_type": "execute_result"
        }
      ],
      "source": [
        "df['Type'].isna().sum()"
      ]
    },
    {
      "cell_type": "code",
      "execution_count": null,
      "metadata": {
        "colab": {
          "base_uri": "https://localhost:8080/"
        },
        "id": "4Ns-delhd-PC",
        "outputId": "0d2850c6-3967-4995-e4f3-9d5574898dfb"
      },
      "outputs": [
        {
          "data": {
            "text/plain": [
              "4100001 · ING - Ventas  Salsas            37885\n",
              "4100002 · ING - Ventas Snacks              8776\n",
              "4100003 · ING - Ventas Comercializados     8523\n",
              "4300001 · DES -  Venta Salsas              4683\n",
              "4200001 · DEV -  Venta Salsas              1680\n",
              "4300004 · DES -  Venta Comercializados     1393\n",
              "4300003 · DES -  Venta Snacks              1206\n",
              "4200002 · DEV -  Venta Snack               1163\n",
              "4200003 · DEV -  Venta Comercializados      544\n",
              "4400001 · NOP -  Servicio de Logistica      321\n",
              "4400005 · NOP - Recup. Reciclaje             53\n",
              "4400004 · NOP - Otros Ingresos               24\n",
              "4400000 · NOP - Pronto Pago                  15\n",
              "4400006 · NOP - Cadena De Valor               3\n",
              "Name: Account, dtype: int64"
            ]
          },
          "execution_count": 15,
          "metadata": {},
          "output_type": "execute_result"
        }
      ],
      "source": [
        "df['Account'].value_counts()"
      ]
    },
    {
      "cell_type": "code",
      "execution_count": null,
      "metadata": {
        "id": "Ae6GhbkBeGXL"
      },
      "outputs": [],
      "source": [
        "# Revanamos la base de datos para solo considerar Ventas y descuentos.\n",
        "df=df[df['Account'].isin(['4100001 · ING - Ventas  Salsas','4100002 · ING - Ventas Snacks','4100003 · ING - Ventas Comercializados','4300001 · DES -  Venta Salsas','4300004 · DES -  Venta Comercializados','4300003 · DES -  Venta Snacks'])]\n",
        "# no se considera descuento por pronto pago por ser transacciones al momento de compra y no descuentos planeados"
      ]
    },
    {
      "cell_type": "code",
      "execution_count": null,
      "metadata": {
        "colab": {
          "base_uri": "https://localhost:8080/"
        },
        "id": "g1IsfbJIzn7r",
        "outputId": "01f462c4-cdd6-475c-b3ba-3980275a3658"
      },
      "outputs": [
        {
          "name": "stdout",
          "output_type": "stream",
          "text": [
            "<class 'pandas.core.frame.DataFrame'>\n",
            "Int64Index: 62466 entries, 2 to 66616\n",
            "Data columns (total 10 columns):\n",
            " #   Column   Non-Null Count  Dtype         \n",
            "---  ------   --------------  -----         \n",
            " 0   Account  62466 non-null  object        \n",
            " 1   Type     62466 non-null  object        \n",
            " 2   Date     62466 non-null  datetime64[ns]\n",
            " 3   Name     62466 non-null  object        \n",
            " 4   Item     62466 non-null  object        \n",
            " 5   Code     62309 non-null  object        \n",
            " 6   Qty      62466 non-null  float64       \n",
            " 7   U/M      55184 non-null  object        \n",
            " 8   Debit    10883 non-null  float64       \n",
            " 9   Credit   51583 non-null  float64       \n",
            "dtypes: datetime64[ns](1), float64(3), object(6)\n",
            "memory usage: 5.2+ MB\n"
          ]
        }
      ],
      "source": [
        "df.info()"
      ]
    },
    {
      "cell_type": "code",
      "execution_count": null,
      "metadata": {
        "colab": {
          "base_uri": "https://localhost:8080/",
          "height": 337
        },
        "id": "cfOGmud6fK2Y",
        "outputId": "90effa52-1e51-4ddc-b339-9d7fa1637214"
      },
      "outputs": [
        {
          "data": {
            "text/html": [
              "\n",
              "  <div id=\"df-a9ee4330-29f8-4738-9d0c-a02d4239695f\">\n",
              "    <div class=\"colab-df-container\">\n",
              "      <div>\n",
              "<style scoped>\n",
              "    .dataframe tbody tr th:only-of-type {\n",
              "        vertical-align: middle;\n",
              "    }\n",
              "\n",
              "    .dataframe tbody tr th {\n",
              "        vertical-align: top;\n",
              "    }\n",
              "\n",
              "    .dataframe thead th {\n",
              "        text-align: right;\n",
              "    }\n",
              "</style>\n",
              "<table border=\"1\" class=\"dataframe\">\n",
              "  <thead>\n",
              "    <tr style=\"text-align: right;\">\n",
              "      <th></th>\n",
              "      <th>Account</th>\n",
              "      <th>Type</th>\n",
              "      <th>Date</th>\n",
              "      <th>Name</th>\n",
              "      <th>Item</th>\n",
              "      <th>Code</th>\n",
              "      <th>Qty</th>\n",
              "      <th>U/M</th>\n",
              "      <th>Debit</th>\n",
              "      <th>Credit</th>\n",
              "    </tr>\n",
              "  </thead>\n",
              "  <tbody>\n",
              "    <tr>\n",
              "      <th>2</th>\n",
              "      <td>4100001 · ING - Ventas  Salsas</td>\n",
              "      <td>Invoice</td>\n",
              "      <td>2019-07-01</td>\n",
              "      <td>GERARDO ORTIZ E HIJOS CIA. LTDA.</td>\n",
              "      <td>P.T:110213 (AJÍ ANDINO A LAS FINAS HIERBAS 250G)</td>\n",
              "      <td>110213</td>\n",
              "      <td>1.0</td>\n",
              "      <td>[X 12]</td>\n",
              "      <td>NaN</td>\n",
              "      <td>19.92</td>\n",
              "    </tr>\n",
              "    <tr>\n",
              "      <th>3</th>\n",
              "      <td>4100001 · ING - Ventas  Salsas</td>\n",
              "      <td>Invoice</td>\n",
              "      <td>2019-07-01</td>\n",
              "      <td>GERARDO ORTIZ E HIJOS CIA. LTDA.</td>\n",
              "      <td>P.T:110700 (CHIMICHURRI OLE 230G)</td>\n",
              "      <td>110700</td>\n",
              "      <td>1.0</td>\n",
              "      <td>[X 12]</td>\n",
              "      <td>NaN</td>\n",
              "      <td>24.96</td>\n",
              "    </tr>\n",
              "    <tr>\n",
              "      <th>4</th>\n",
              "      <td>4100001 · ING - Ventas  Salsas</td>\n",
              "      <td>Invoice</td>\n",
              "      <td>2019-07-01</td>\n",
              "      <td>GERARDO ORTIZ E HIJOS CIA. LTDA.</td>\n",
              "      <td>P.T:110714 (SALSA PARA SPAGHETTI RUSTICA OLE 4...</td>\n",
              "      <td>110714</td>\n",
              "      <td>1.0</td>\n",
              "      <td>[X 12]</td>\n",
              "      <td>NaN</td>\n",
              "      <td>32.76</td>\n",
              "    </tr>\n",
              "    <tr>\n",
              "      <th>5</th>\n",
              "      <td>4100001 · ING - Ventas  Salsas</td>\n",
              "      <td>Invoice</td>\n",
              "      <td>2019-07-01</td>\n",
              "      <td>GERARDO ORTIZ E HIJOS CIA. LTDA.</td>\n",
              "      <td>P.T:110606 (JALAPEÑO ROJOS Y VERDES AGRIDULCES...</td>\n",
              "      <td>110606</td>\n",
              "      <td>2.0</td>\n",
              "      <td>[X 12]</td>\n",
              "      <td>NaN</td>\n",
              "      <td>38.16</td>\n",
              "    </tr>\n",
              "    <tr>\n",
              "      <th>6</th>\n",
              "      <td>4100001 · ING - Ventas  Salsas</td>\n",
              "      <td>Invoice</td>\n",
              "      <td>2019-07-01</td>\n",
              "      <td>GERARDO ORTIZ E HIJOS CIA. LTDA.</td>\n",
              "      <td>P.T:110700 (CHIMICHURRI OLE 230G)</td>\n",
              "      <td>110700</td>\n",
              "      <td>1.0</td>\n",
              "      <td>[X 12]</td>\n",
              "      <td>NaN</td>\n",
              "      <td>24.96</td>\n",
              "    </tr>\n",
              "  </tbody>\n",
              "</table>\n",
              "</div>\n",
              "      <button class=\"colab-df-convert\" onclick=\"convertToInteractive('df-a9ee4330-29f8-4738-9d0c-a02d4239695f')\"\n",
              "              title=\"Convert this dataframe to an interactive table.\"\n",
              "              style=\"display:none;\">\n",
              "        \n",
              "  <svg xmlns=\"http://www.w3.org/2000/svg\" height=\"24px\"viewBox=\"0 0 24 24\"\n",
              "       width=\"24px\">\n",
              "    <path d=\"M0 0h24v24H0V0z\" fill=\"none\"/>\n",
              "    <path d=\"M18.56 5.44l.94 2.06.94-2.06 2.06-.94-2.06-.94-.94-2.06-.94 2.06-2.06.94zm-11 1L8.5 8.5l.94-2.06 2.06-.94-2.06-.94L8.5 2.5l-.94 2.06-2.06.94zm10 10l.94 2.06.94-2.06 2.06-.94-2.06-.94-.94-2.06-.94 2.06-2.06.94z\"/><path d=\"M17.41 7.96l-1.37-1.37c-.4-.4-.92-.59-1.43-.59-.52 0-1.04.2-1.43.59L10.3 9.45l-7.72 7.72c-.78.78-.78 2.05 0 2.83L4 21.41c.39.39.9.59 1.41.59.51 0 1.02-.2 1.41-.59l7.78-7.78 2.81-2.81c.8-.78.8-2.07 0-2.86zM5.41 20L4 18.59l7.72-7.72 1.47 1.35L5.41 20z\"/>\n",
              "  </svg>\n",
              "      </button>\n",
              "      \n",
              "  <style>\n",
              "    .colab-df-container {\n",
              "      display:flex;\n",
              "      flex-wrap:wrap;\n",
              "      gap: 12px;\n",
              "    }\n",
              "\n",
              "    .colab-df-convert {\n",
              "      background-color: #E8F0FE;\n",
              "      border: none;\n",
              "      border-radius: 50%;\n",
              "      cursor: pointer;\n",
              "      display: none;\n",
              "      fill: #1967D2;\n",
              "      height: 32px;\n",
              "      padding: 0 0 0 0;\n",
              "      width: 32px;\n",
              "    }\n",
              "\n",
              "    .colab-df-convert:hover {\n",
              "      background-color: #E2EBFA;\n",
              "      box-shadow: 0px 1px 2px rgba(60, 64, 67, 0.3), 0px 1px 3px 1px rgba(60, 64, 67, 0.15);\n",
              "      fill: #174EA6;\n",
              "    }\n",
              "\n",
              "    [theme=dark] .colab-df-convert {\n",
              "      background-color: #3B4455;\n",
              "      fill: #D2E3FC;\n",
              "    }\n",
              "\n",
              "    [theme=dark] .colab-df-convert:hover {\n",
              "      background-color: #434B5C;\n",
              "      box-shadow: 0px 1px 3px 1px rgba(0, 0, 0, 0.15);\n",
              "      filter: drop-shadow(0px 1px 2px rgba(0, 0, 0, 0.3));\n",
              "      fill: #FFFFFF;\n",
              "    }\n",
              "  </style>\n",
              "\n",
              "      <script>\n",
              "        const buttonEl =\n",
              "          document.querySelector('#df-a9ee4330-29f8-4738-9d0c-a02d4239695f button.colab-df-convert');\n",
              "        buttonEl.style.display =\n",
              "          google.colab.kernel.accessAllowed ? 'block' : 'none';\n",
              "\n",
              "        async function convertToInteractive(key) {\n",
              "          const element = document.querySelector('#df-a9ee4330-29f8-4738-9d0c-a02d4239695f');\n",
              "          const dataTable =\n",
              "            await google.colab.kernel.invokeFunction('convertToInteractive',\n",
              "                                                     [key], {});\n",
              "          if (!dataTable) return;\n",
              "\n",
              "          const docLinkHtml = 'Like what you see? Visit the ' +\n",
              "            '<a target=\"_blank\" href=https://colab.research.google.com/notebooks/data_table.ipynb>data table notebook</a>'\n",
              "            + ' to learn more about interactive tables.';\n",
              "          element.innerHTML = '';\n",
              "          dataTable['output_type'] = 'display_data';\n",
              "          await google.colab.output.renderOutput(dataTable, element);\n",
              "          const docLink = document.createElement('div');\n",
              "          docLink.innerHTML = docLinkHtml;\n",
              "          element.appendChild(docLink);\n",
              "        }\n",
              "      </script>\n",
              "    </div>\n",
              "  </div>\n",
              "  "
            ],
            "text/plain": [
              "                          Account     Type       Date  \\\n",
              "2  4100001 · ING - Ventas  Salsas  Invoice 2019-07-01   \n",
              "3  4100001 · ING - Ventas  Salsas  Invoice 2019-07-01   \n",
              "4  4100001 · ING - Ventas  Salsas  Invoice 2019-07-01   \n",
              "5  4100001 · ING - Ventas  Salsas  Invoice 2019-07-01   \n",
              "6  4100001 · ING - Ventas  Salsas  Invoice 2019-07-01   \n",
              "\n",
              "                               Name  \\\n",
              "2  GERARDO ORTIZ E HIJOS CIA. LTDA.   \n",
              "3  GERARDO ORTIZ E HIJOS CIA. LTDA.   \n",
              "4  GERARDO ORTIZ E HIJOS CIA. LTDA.   \n",
              "5  GERARDO ORTIZ E HIJOS CIA. LTDA.   \n",
              "6  GERARDO ORTIZ E HIJOS CIA. LTDA.   \n",
              "\n",
              "                                                Item    Code  Qty     U/M  \\\n",
              "2   P.T:110213 (AJÍ ANDINO A LAS FINAS HIERBAS 250G)  110213  1.0  [X 12]   \n",
              "3                  P.T:110700 (CHIMICHURRI OLE 230G)  110700  1.0  [X 12]   \n",
              "4  P.T:110714 (SALSA PARA SPAGHETTI RUSTICA OLE 4...  110714  1.0  [X 12]   \n",
              "5  P.T:110606 (JALAPEÑO ROJOS Y VERDES AGRIDULCES...  110606  2.0  [X 12]   \n",
              "6                  P.T:110700 (CHIMICHURRI OLE 230G)  110700  1.0  [X 12]   \n",
              "\n",
              "   Debit  Credit  \n",
              "2    NaN   19.92  \n",
              "3    NaN   24.96  \n",
              "4    NaN   32.76  \n",
              "5    NaN   38.16  \n",
              "6    NaN   24.96  "
            ]
          },
          "execution_count": 18,
          "metadata": {},
          "output_type": "execute_result"
        }
      ],
      "source": [
        "df.head()"
      ]
    },
    {
      "cell_type": "code",
      "execution_count": null,
      "metadata": {
        "colab": {
          "base_uri": "https://localhost:8080/"
        },
        "id": "706Z8KXQWTJD",
        "outputId": "760ac853-3cd3-44b3-f181-1414577edac5"
      },
      "outputs": [
        {
          "data": {
            "text/plain": [
              "X12       28346\n",
              "UN        11864\n",
              "X24        5478\n",
              "[X 12]     3865\n",
              "[X 24]     1412\n",
              "[UNI]      1137\n",
              "X 6         757\n",
              "[UNID]      657\n",
              "X6          495\n",
              "X10         262\n",
              "[x 12]      222\n",
              "[X 6]       166\n",
              "X48         161\n",
              "X30         131\n",
              "[X 48]       59\n",
              "X4           45\n",
              "[X 2]        32\n",
              "[x24]        18\n",
              "[X 1]        18\n",
              "[x10]        14\n",
              "[X 30]       13\n",
              "X7           11\n",
              " UN          10\n",
              "X8            4\n",
              "X 12          2\n",
              "[Gl]          2\n",
              "X 1           1\n",
              "[x12]         1\n",
              "X 24          1\n",
              "Name: U/M, dtype: int64"
            ]
          },
          "execution_count": 19,
          "metadata": {},
          "output_type": "execute_result"
        }
      ],
      "source": [
        "# Homologamos los datos de la variable de unidad de manejo para dar relevancia estadistica cuantitativa.E imputamos los vacios con 1\n",
        "df['U/M'].value_counts()"
      ]
    },
    {
      "cell_type": "code",
      "execution_count": null,
      "metadata": {
        "id": "87schAMji_vA"
      },
      "outputs": [],
      "source": [
        "df[\"U/M\"].replace({\"X12\": \"12\", \"UN\": \"1\", \"X24\": \"24\", \"[X 12]\": \"12\",\n",
        "                   \"[X 24]\": \"24\", \"[UNI]\": \"1\", \"X 6\": \"6\", \"[UNID]\": \"1\", \"X6\": \"6\",\n",
        "                   \"X10\": \"10\", \"[x 12]\": \"12\", \"[X 6]\": \"6\", \"X48\": \"48\", \"X30\": \"30\", \"[X 48]\": \"48\",\n",
        "                   \"X4\": \"4\", \"[X 2]\": \"2\", \"[x24]\": \"24\", \"[X 1]\": \"1\", \"[x10]\": \"10\", \"[X 30]\": \"30\", \"X7\": \"7\", \" UN\": \"1\", \"X8\": \"8\"\n",
        "                   , \"X 12\": \"12\", \"[Gl]\": \"1\", \"X 1\": \"1\", \"[x12]\": \"12\", \"X 24\": \"24\"}, inplace=True)"
      ]
    },
    {
      "cell_type": "code",
      "execution_count": null,
      "metadata": {
        "colab": {
          "base_uri": "https://localhost:8080/"
        },
        "id": "EfbVRwBAmXUZ",
        "outputId": "94c52de4-5325-40d0-f010-fecc5517648c"
      },
      "outputs": [
        {
          "data": {
            "text/plain": [
              "12    32436\n",
              "1     13689\n",
              "24     6909\n",
              "6      1418\n",
              "10      276\n",
              "48      220\n",
              "30      144\n",
              "4        45\n",
              "2        32\n",
              "7        11\n",
              "8         4\n",
              "Name: U/M, dtype: int64"
            ]
          },
          "execution_count": 21,
          "metadata": {},
          "output_type": "execute_result"
        }
      ],
      "source": [
        "df['U/M'].value_counts()"
      ]
    },
    {
      "cell_type": "code",
      "execution_count": null,
      "metadata": {
        "id": "i-DOfHNRmboh"
      },
      "outputs": [],
      "source": [
        "df['U/M']=df['U/M'].fillna(1)"
      ]
    },
    {
      "cell_type": "code",
      "execution_count": null,
      "metadata": {
        "id": "NqaqMrrvoy9G"
      },
      "outputs": [],
      "source": [
        "# imputamos los Nan de Debit and Credit con ceros para aportar relevancia estad'istica: \n",
        "df['Debit']=df['Debit'].fillna(0)\n",
        "df['Credit']=df['Credit'].fillna(0)"
      ]
    },
    {
      "cell_type": "code",
      "execution_count": null,
      "metadata": {
        "colab": {
          "base_uri": "https://localhost:8080/"
        },
        "id": "r3sQPOYHqFP-",
        "outputId": "8f5d4cb8-9f8a-4211-fba0-d6e77dfaab5b"
      },
      "outputs": [
        {
          "name": "stdout",
          "output_type": "stream",
          "text": [
            "<class 'pandas.core.frame.DataFrame'>\n",
            "Int64Index: 62466 entries, 2 to 66616\n",
            "Data columns (total 10 columns):\n",
            " #   Column   Non-Null Count  Dtype         \n",
            "---  ------   --------------  -----         \n",
            " 0   Account  62466 non-null  object        \n",
            " 1   Type     62466 non-null  object        \n",
            " 2   Date     62466 non-null  datetime64[ns]\n",
            " 3   Name     62466 non-null  object        \n",
            " 4   Item     62466 non-null  object        \n",
            " 5   Code     62309 non-null  object        \n",
            " 6   Qty      62466 non-null  float64       \n",
            " 7   U/M      62466 non-null  object        \n",
            " 8   Debit    62466 non-null  float64       \n",
            " 9   Credit   62466 non-null  float64       \n",
            "dtypes: datetime64[ns](1), float64(3), object(6)\n",
            "memory usage: 5.2+ MB\n"
          ]
        }
      ],
      "source": [
        "df.info()\n",
        "# Base de Datos imputada y limpia con relevancia estadistica lista para hacer predicciones. "
      ]
    },
    {
      "cell_type": "code",
      "execution_count": null,
      "metadata": {
        "id": "MXLR_HuMDAHe"
      },
      "outputs": [],
      "source": [
        "df['Qty']=df['Qty'].apply(pd.to_numeric,errors='coerce')\n",
        "df['U/M']=df['U/M'].apply(pd.to_numeric,errors='coerce')"
      ]
    },
    {
      "cell_type": "code",
      "execution_count": null,
      "metadata": {
        "colab": {
          "base_uri": "https://localhost:8080/"
        },
        "id": "7-x3U5XD6JfU",
        "outputId": "a8965fe3-0759-4b85-a614-55d7186d8535"
      },
      "outputs": [
        {
          "data": {
            "text/plain": [
              "4100001 · ING - Ventas  Salsas            37885\n",
              "4100002 · ING - Ventas Snacks              8776\n",
              "4100003 · ING - Ventas Comercializados     8523\n",
              "4300001 · DES -  Venta Salsas              4683\n",
              "4300004 · DES -  Venta Comercializados     1393\n",
              "4300003 · DES -  Venta Snacks              1206\n",
              "Name: Account, dtype: int64"
            ]
          },
          "execution_count": 26,
          "metadata": {},
          "output_type": "execute_result"
        }
      ],
      "source": [
        "df['Account'].value_counts()"
      ]
    },
    {
      "cell_type": "code",
      "execution_count": null,
      "metadata": {
        "id": "wWJEYPRwUIDT"
      },
      "outputs": [],
      "source": [
        "# Se eliminan los descuentos correspondientes a empaques siendo estos valores atipicos de 10 centavos que no aprotan relevancia estadistica\n",
        "# Define Index for the drop condition:\n",
        "Cleaning=df[df['Code']=='M.E:13'].index\n",
        "\n",
        "# rewrite the dataframe Drop Rows using the condition \n",
        "\n",
        "df=df.drop(Cleaning)"
      ]
    },
    {
      "cell_type": "markdown",
      "metadata": {
        "id": "VLWB3GjTbGWp"
      },
      "source": [
        "##Notese que no se eliminan los descuentos por acuerdos con mayoristas a pesar de no poderlos ligar con un codigo a una venta ya que estos pueden representar relevancia estad'istica en las predicciones. \n",
        "##Notese tambien que al no poder ligar estos descuentos, no se puede aportar valor a las correlaciones de acuerdo a producto pero si por cliente."
      ]
    },
    {
      "cell_type": "code",
      "execution_count": null,
      "metadata": {
        "colab": {
          "base_uri": "https://localhost:8080/"
        },
        "id": "hSXwuu30ZLU0",
        "outputId": "cb279608-591e-4936-fd9e-c5f7168da2ca"
      },
      "outputs": [
        {
          "name": "stdout",
          "output_type": "stream",
          "text": [
            "<class 'pandas.core.frame.DataFrame'>\n",
            "Int64Index: 62456 entries, 2 to 66616\n",
            "Data columns (total 10 columns):\n",
            " #   Column   Non-Null Count  Dtype         \n",
            "---  ------   --------------  -----         \n",
            " 0   Account  62456 non-null  object        \n",
            " 1   Type     62456 non-null  object        \n",
            " 2   Date     62456 non-null  datetime64[ns]\n",
            " 3   Name     62456 non-null  object        \n",
            " 4   Item     62456 non-null  object        \n",
            " 5   Code     62299 non-null  object        \n",
            " 6   Qty      62456 non-null  float64       \n",
            " 7   U/M      62456 non-null  int64         \n",
            " 8   Debit    62456 non-null  float64       \n",
            " 9   Credit   62456 non-null  float64       \n",
            "dtypes: datetime64[ns](1), float64(3), int64(1), object(5)\n",
            "memory usage: 5.2+ MB\n"
          ]
        }
      ],
      "source": [
        "df.info()\n",
        "# DataSet limpio e imputado, la columna de Debito corresponde a los descuentos"
      ]
    },
    {
      "cell_type": "code",
      "execution_count": null,
      "metadata": {
        "colab": {
          "base_uri": "https://localhost:8080/"
        },
        "id": "34NCs6WQhu9t",
        "outputId": "724ec510-ded7-4795-f1b5-6e72c16d5afb"
      },
      "outputs": [
        {
          "data": {
            "text/plain": [
              "Invoice        59555\n",
              "Credit Memo     1637\n",
              "Bill            1264\n",
              "Name: Type, dtype: int64"
            ]
          },
          "execution_count": 29,
          "metadata": {},
          "output_type": "execute_result"
        }
      ],
      "source": [
        "df['Type'].value_counts()\n",
        "# podemos apreciar que no existen ya las entradas de Credit, se filtraron al momento de filtrar por account\n",
        "# por lo tanto el segundo filtro es por tipo de documento: Invoice, Credit Memo y Bill "
      ]
    },
    {
      "cell_type": "code",
      "execution_count": null,
      "metadata": {
        "colab": {
          "base_uri": "https://localhost:8080/"
        },
        "id": "btbCbQr23DwV",
        "outputId": "463514fb-5414-46c6-f1a3-1295150cbc07"
      },
      "outputs": [
        {
          "name": "stdout",
          "output_type": "stream",
          "text": [
            "<class 'pandas.core.frame.DataFrame'>\n",
            "Int64Index: 62299 entries, 2 to 66616\n",
            "Data columns (total 10 columns):\n",
            " #   Column   Non-Null Count  Dtype         \n",
            "---  ------   --------------  -----         \n",
            " 0   Account  62299 non-null  object        \n",
            " 1   Type     62299 non-null  object        \n",
            " 2   Date     62299 non-null  datetime64[ns]\n",
            " 3   Name     62299 non-null  object        \n",
            " 4   Item     62299 non-null  object        \n",
            " 5   Code     62299 non-null  object        \n",
            " 6   Qty      62299 non-null  float64       \n",
            " 7   U/M      62299 non-null  int64         \n",
            " 8   Debit    62299 non-null  float64       \n",
            " 9   Credit   62299 non-null  float64       \n",
            "dtypes: datetime64[ns](1), float64(3), int64(1), object(5)\n",
            "memory usage: 5.2+ MB\n"
          ]
        }
      ],
      "source": [
        "df = df.dropna(how = 'any')\n",
        "df.info()"
      ]
    },
    {
      "cell_type": "markdown",
      "metadata": {
        "id": "1FoJLmYxAhlB"
      },
      "source": [
        "# PREDICCIONES \n"
      ]
    },
    {
      "cell_type": "code",
      "execution_count": null,
      "metadata": {
        "id": "UUgl8afF7Fsu"
      },
      "outputs": [],
      "source": [
        "from sklearn.metrics import r2_score\n",
        "from sklearn.metrics import mean_absolute_error\n",
        "from sklearn.metrics import mean_squared_error\n",
        "from sklearn.model_selection import train_test_split\n",
        "from sklearn.ensemble import RandomForestRegressor"
      ]
    },
    {
      "cell_type": "code",
      "execution_count": null,
      "metadata": {
        "id": "LvJbAyA-NaEb"
      },
      "outputs": [],
      "source": [
        "df = pd.get_dummies(df, columns = ['Name'])"
      ]
    },
    {
      "cell_type": "code",
      "execution_count": null,
      "metadata": {
        "id": "Fl7yGGVsNooi"
      },
      "outputs": [],
      "source": [
        "df = pd.get_dummies(df, columns = ['Item'])"
      ]
    },
    {
      "cell_type": "code",
      "execution_count": null,
      "metadata": {
        "id": "32ic6PEo2CSU"
      },
      "outputs": [],
      "source": [
        "df = pd.get_dummies(df, columns = ['Type'])"
      ]
    },
    {
      "cell_type": "code",
      "execution_count": null,
      "metadata": {
        "id": "JWeMGFRl2HhC"
      },
      "outputs": [],
      "source": [
        "df = pd.get_dummies(df, columns = ['Account'])"
      ]
    },
    {
      "cell_type": "code",
      "execution_count": null,
      "metadata": {
        "colab": {
          "base_uri": "https://localhost:8080/",
          "height": 473
        },
        "id": "Nxvc5PlnOqi5",
        "outputId": "db69aba5-7570-4b5e-e484-cd13ab8cb6d3"
      },
      "outputs": [
        {
          "data": {
            "text/html": [
              "\n",
              "  <div id=\"df-8bdee572-4af5-4b77-8f88-85b2e775ddb5\">\n",
              "    <div class=\"colab-df-container\">\n",
              "      <div>\n",
              "<style scoped>\n",
              "    .dataframe tbody tr th:only-of-type {\n",
              "        vertical-align: middle;\n",
              "    }\n",
              "\n",
              "    .dataframe tbody tr th {\n",
              "        vertical-align: top;\n",
              "    }\n",
              "\n",
              "    .dataframe thead th {\n",
              "        text-align: right;\n",
              "    }\n",
              "</style>\n",
              "<table border=\"1\" class=\"dataframe\">\n",
              "  <thead>\n",
              "    <tr style=\"text-align: right;\">\n",
              "      <th></th>\n",
              "      <th>Date</th>\n",
              "      <th>Code</th>\n",
              "      <th>Qty</th>\n",
              "      <th>U/M</th>\n",
              "      <th>Debit</th>\n",
              "      <th>Credit</th>\n",
              "      <th>Name_ACOSTA JAYA CARLOS ANDRES</th>\n",
              "      <th>Name_AGRICOLA KOMUNA S.A. AGRIKOMUNA</th>\n",
              "      <th>Name_AGUILAR HERRERA HUGO PAUL</th>\n",
              "      <th>Name_AKD INC.</th>\n",
              "      <th>...</th>\n",
              "      <th>Item_SERV:344:V&amp;M - SNK Recuperación Desc.SMX (Participación Supermaxi)</th>\n",
              "      <th>Type_Bill</th>\n",
              "      <th>Type_Credit Memo</th>\n",
              "      <th>Type_Invoice</th>\n",
              "      <th>Account_4100001 · ING - Ventas  Salsas</th>\n",
              "      <th>Account_4100002 · ING - Ventas Snacks</th>\n",
              "      <th>Account_4100003 · ING - Ventas Comercializados</th>\n",
              "      <th>Account_4300001 · DES -  Venta Salsas</th>\n",
              "      <th>Account_4300003 · DES -  Venta Snacks</th>\n",
              "      <th>Account_4300004 · DES -  Venta Comercializados</th>\n",
              "    </tr>\n",
              "  </thead>\n",
              "  <tbody>\n",
              "    <tr>\n",
              "      <th>2</th>\n",
              "      <td>2019-07-01</td>\n",
              "      <td>110213</td>\n",
              "      <td>1.0</td>\n",
              "      <td>12</td>\n",
              "      <td>0.0</td>\n",
              "      <td>19.92</td>\n",
              "      <td>0</td>\n",
              "      <td>0</td>\n",
              "      <td>0</td>\n",
              "      <td>0</td>\n",
              "      <td>...</td>\n",
              "      <td>0</td>\n",
              "      <td>0</td>\n",
              "      <td>0</td>\n",
              "      <td>1</td>\n",
              "      <td>1</td>\n",
              "      <td>0</td>\n",
              "      <td>0</td>\n",
              "      <td>0</td>\n",
              "      <td>0</td>\n",
              "      <td>0</td>\n",
              "    </tr>\n",
              "    <tr>\n",
              "      <th>3</th>\n",
              "      <td>2019-07-01</td>\n",
              "      <td>110700</td>\n",
              "      <td>1.0</td>\n",
              "      <td>12</td>\n",
              "      <td>0.0</td>\n",
              "      <td>24.96</td>\n",
              "      <td>0</td>\n",
              "      <td>0</td>\n",
              "      <td>0</td>\n",
              "      <td>0</td>\n",
              "      <td>...</td>\n",
              "      <td>0</td>\n",
              "      <td>0</td>\n",
              "      <td>0</td>\n",
              "      <td>1</td>\n",
              "      <td>1</td>\n",
              "      <td>0</td>\n",
              "      <td>0</td>\n",
              "      <td>0</td>\n",
              "      <td>0</td>\n",
              "      <td>0</td>\n",
              "    </tr>\n",
              "    <tr>\n",
              "      <th>4</th>\n",
              "      <td>2019-07-01</td>\n",
              "      <td>110714</td>\n",
              "      <td>1.0</td>\n",
              "      <td>12</td>\n",
              "      <td>0.0</td>\n",
              "      <td>32.76</td>\n",
              "      <td>0</td>\n",
              "      <td>0</td>\n",
              "      <td>0</td>\n",
              "      <td>0</td>\n",
              "      <td>...</td>\n",
              "      <td>0</td>\n",
              "      <td>0</td>\n",
              "      <td>0</td>\n",
              "      <td>1</td>\n",
              "      <td>1</td>\n",
              "      <td>0</td>\n",
              "      <td>0</td>\n",
              "      <td>0</td>\n",
              "      <td>0</td>\n",
              "      <td>0</td>\n",
              "    </tr>\n",
              "    <tr>\n",
              "      <th>5</th>\n",
              "      <td>2019-07-01</td>\n",
              "      <td>110606</td>\n",
              "      <td>2.0</td>\n",
              "      <td>12</td>\n",
              "      <td>0.0</td>\n",
              "      <td>38.16</td>\n",
              "      <td>0</td>\n",
              "      <td>0</td>\n",
              "      <td>0</td>\n",
              "      <td>0</td>\n",
              "      <td>...</td>\n",
              "      <td>0</td>\n",
              "      <td>0</td>\n",
              "      <td>0</td>\n",
              "      <td>1</td>\n",
              "      <td>1</td>\n",
              "      <td>0</td>\n",
              "      <td>0</td>\n",
              "      <td>0</td>\n",
              "      <td>0</td>\n",
              "      <td>0</td>\n",
              "    </tr>\n",
              "    <tr>\n",
              "      <th>6</th>\n",
              "      <td>2019-07-01</td>\n",
              "      <td>110700</td>\n",
              "      <td>1.0</td>\n",
              "      <td>12</td>\n",
              "      <td>0.0</td>\n",
              "      <td>24.96</td>\n",
              "      <td>0</td>\n",
              "      <td>0</td>\n",
              "      <td>0</td>\n",
              "      <td>0</td>\n",
              "      <td>...</td>\n",
              "      <td>0</td>\n",
              "      <td>0</td>\n",
              "      <td>0</td>\n",
              "      <td>1</td>\n",
              "      <td>1</td>\n",
              "      <td>0</td>\n",
              "      <td>0</td>\n",
              "      <td>0</td>\n",
              "      <td>0</td>\n",
              "      <td>0</td>\n",
              "    </tr>\n",
              "  </tbody>\n",
              "</table>\n",
              "<p>5 rows × 543 columns</p>\n",
              "</div>\n",
              "      <button class=\"colab-df-convert\" onclick=\"convertToInteractive('df-8bdee572-4af5-4b77-8f88-85b2e775ddb5')\"\n",
              "              title=\"Convert this dataframe to an interactive table.\"\n",
              "              style=\"display:none;\">\n",
              "        \n",
              "  <svg xmlns=\"http://www.w3.org/2000/svg\" height=\"24px\"viewBox=\"0 0 24 24\"\n",
              "       width=\"24px\">\n",
              "    <path d=\"M0 0h24v24H0V0z\" fill=\"none\"/>\n",
              "    <path d=\"M18.56 5.44l.94 2.06.94-2.06 2.06-.94-2.06-.94-.94-2.06-.94 2.06-2.06.94zm-11 1L8.5 8.5l.94-2.06 2.06-.94-2.06-.94L8.5 2.5l-.94 2.06-2.06.94zm10 10l.94 2.06.94-2.06 2.06-.94-2.06-.94-.94-2.06-.94 2.06-2.06.94z\"/><path d=\"M17.41 7.96l-1.37-1.37c-.4-.4-.92-.59-1.43-.59-.52 0-1.04.2-1.43.59L10.3 9.45l-7.72 7.72c-.78.78-.78 2.05 0 2.83L4 21.41c.39.39.9.59 1.41.59.51 0 1.02-.2 1.41-.59l7.78-7.78 2.81-2.81c.8-.78.8-2.07 0-2.86zM5.41 20L4 18.59l7.72-7.72 1.47 1.35L5.41 20z\"/>\n",
              "  </svg>\n",
              "      </button>\n",
              "      \n",
              "  <style>\n",
              "    .colab-df-container {\n",
              "      display:flex;\n",
              "      flex-wrap:wrap;\n",
              "      gap: 12px;\n",
              "    }\n",
              "\n",
              "    .colab-df-convert {\n",
              "      background-color: #E8F0FE;\n",
              "      border: none;\n",
              "      border-radius: 50%;\n",
              "      cursor: pointer;\n",
              "      display: none;\n",
              "      fill: #1967D2;\n",
              "      height: 32px;\n",
              "      padding: 0 0 0 0;\n",
              "      width: 32px;\n",
              "    }\n",
              "\n",
              "    .colab-df-convert:hover {\n",
              "      background-color: #E2EBFA;\n",
              "      box-shadow: 0px 1px 2px rgba(60, 64, 67, 0.3), 0px 1px 3px 1px rgba(60, 64, 67, 0.15);\n",
              "      fill: #174EA6;\n",
              "    }\n",
              "\n",
              "    [theme=dark] .colab-df-convert {\n",
              "      background-color: #3B4455;\n",
              "      fill: #D2E3FC;\n",
              "    }\n",
              "\n",
              "    [theme=dark] .colab-df-convert:hover {\n",
              "      background-color: #434B5C;\n",
              "      box-shadow: 0px 1px 3px 1px rgba(0, 0, 0, 0.15);\n",
              "      filter: drop-shadow(0px 1px 2px rgba(0, 0, 0, 0.3));\n",
              "      fill: #FFFFFF;\n",
              "    }\n",
              "  </style>\n",
              "\n",
              "      <script>\n",
              "        const buttonEl =\n",
              "          document.querySelector('#df-8bdee572-4af5-4b77-8f88-85b2e775ddb5 button.colab-df-convert');\n",
              "        buttonEl.style.display =\n",
              "          google.colab.kernel.accessAllowed ? 'block' : 'none';\n",
              "\n",
              "        async function convertToInteractive(key) {\n",
              "          const element = document.querySelector('#df-8bdee572-4af5-4b77-8f88-85b2e775ddb5');\n",
              "          const dataTable =\n",
              "            await google.colab.kernel.invokeFunction('convertToInteractive',\n",
              "                                                     [key], {});\n",
              "          if (!dataTable) return;\n",
              "\n",
              "          const docLinkHtml = 'Like what you see? Visit the ' +\n",
              "            '<a target=\"_blank\" href=https://colab.research.google.com/notebooks/data_table.ipynb>data table notebook</a>'\n",
              "            + ' to learn more about interactive tables.';\n",
              "          element.innerHTML = '';\n",
              "          dataTable['output_type'] = 'display_data';\n",
              "          await google.colab.output.renderOutput(dataTable, element);\n",
              "          const docLink = document.createElement('div');\n",
              "          docLink.innerHTML = docLinkHtml;\n",
              "          element.appendChild(docLink);\n",
              "        }\n",
              "      </script>\n",
              "    </div>\n",
              "  </div>\n",
              "  "
            ],
            "text/plain": [
              "        Date    Code  Qty  U/M  Debit  Credit  Name_ACOSTA JAYA CARLOS ANDRES  \\\n",
              "2 2019-07-01  110213  1.0   12    0.0   19.92                               0   \n",
              "3 2019-07-01  110700  1.0   12    0.0   24.96                               0   \n",
              "4 2019-07-01  110714  1.0   12    0.0   32.76                               0   \n",
              "5 2019-07-01  110606  2.0   12    0.0   38.16                               0   \n",
              "6 2019-07-01  110700  1.0   12    0.0   24.96                               0   \n",
              "\n",
              "   Name_AGRICOLA KOMUNA S.A. AGRIKOMUNA  Name_AGUILAR HERRERA HUGO PAUL  \\\n",
              "2                                     0                               0   \n",
              "3                                     0                               0   \n",
              "4                                     0                               0   \n",
              "5                                     0                               0   \n",
              "6                                     0                               0   \n",
              "\n",
              "   Name_AKD INC.  ...  \\\n",
              "2              0  ...   \n",
              "3              0  ...   \n",
              "4              0  ...   \n",
              "5              0  ...   \n",
              "6              0  ...   \n",
              "\n",
              "   Item_SERV:344:V&M - SNK Recuperación Desc.SMX (Participación Supermaxi)  \\\n",
              "2                                                  0                         \n",
              "3                                                  0                         \n",
              "4                                                  0                         \n",
              "5                                                  0                         \n",
              "6                                                  0                         \n",
              "\n",
              "   Type_Bill  Type_Credit Memo  Type_Invoice  \\\n",
              "2          0                 0             1   \n",
              "3          0                 0             1   \n",
              "4          0                 0             1   \n",
              "5          0                 0             1   \n",
              "6          0                 0             1   \n",
              "\n",
              "   Account_4100001 · ING - Ventas  Salsas  \\\n",
              "2                                       1   \n",
              "3                                       1   \n",
              "4                                       1   \n",
              "5                                       1   \n",
              "6                                       1   \n",
              "\n",
              "   Account_4100002 · ING - Ventas Snacks  \\\n",
              "2                                      0   \n",
              "3                                      0   \n",
              "4                                      0   \n",
              "5                                      0   \n",
              "6                                      0   \n",
              "\n",
              "   Account_4100003 · ING - Ventas Comercializados  \\\n",
              "2                                               0   \n",
              "3                                               0   \n",
              "4                                               0   \n",
              "5                                               0   \n",
              "6                                               0   \n",
              "\n",
              "   Account_4300001 · DES -  Venta Salsas  \\\n",
              "2                                      0   \n",
              "3                                      0   \n",
              "4                                      0   \n",
              "5                                      0   \n",
              "6                                      0   \n",
              "\n",
              "   Account_4300003 · DES -  Venta Snacks  \\\n",
              "2                                      0   \n",
              "3                                      0   \n",
              "4                                      0   \n",
              "5                                      0   \n",
              "6                                      0   \n",
              "\n",
              "   Account_4300004 · DES -  Venta Comercializados  \n",
              "2                                               0  \n",
              "3                                               0  \n",
              "4                                               0  \n",
              "5                                               0  \n",
              "6                                               0  \n",
              "\n",
              "[5 rows x 543 columns]"
            ]
          },
          "execution_count": 36,
          "metadata": {},
          "output_type": "execute_result"
        }
      ],
      "source": [
        "df.head()"
      ]
    },
    {
      "cell_type": "code",
      "execution_count": null,
      "metadata": {
        "colab": {
          "base_uri": "https://localhost:8080/"
        },
        "id": "S3XxRPj380z-",
        "outputId": "060c3124-f73d-4c0a-87f9-b8b8c76dd933"
      },
      "outputs": [
        {
          "data": {
            "text/plain": [
              "(62299, 541)"
            ]
          },
          "execution_count": 37,
          "metadata": {},
          "output_type": "execute_result"
        }
      ],
      "source": [
        "X = df.drop(columns = ['Date','Code'])\n",
        "X.shape"
      ]
    },
    {
      "cell_type": "code",
      "execution_count": null,
      "metadata": {
        "colab": {
          "base_uri": "https://localhost:8080/"
        },
        "id": "62CR4G8x85aT",
        "outputId": "1e67a3ce-2a3c-4fb1-847b-9b0f98311e23"
      },
      "outputs": [
        {
          "data": {
            "text/plain": [
              "(62299,)"
            ]
          },
          "execution_count": 38,
          "metadata": {},
          "output_type": "execute_result"
        }
      ],
      "source": [
        "y = df.loc[:, 'Credit']\n",
        "y.shape"
      ]
    },
    {
      "cell_type": "code",
      "execution_count": null,
      "metadata": {
        "colab": {
          "base_uri": "https://localhost:8080/"
        },
        "id": "JRywN6G1-nhf",
        "outputId": "debca2c6-0583-413c-e4ba-66621152e577"
      },
      "outputs": [
        {
          "data": {
            "text/plain": [
              "True"
            ]
          },
          "execution_count": 39,
          "metadata": {},
          "output_type": "execute_result"
        }
      ],
      "source": [
        "np.any(np.isnan(X))\n",
        "np.all(np.isfinite(X))"
      ]
    },
    {
      "cell_type": "code",
      "execution_count": null,
      "metadata": {
        "colab": {
          "base_uri": "https://localhost:8080/"
        },
        "id": "D7VmedoU-xoC",
        "outputId": "8aeba428-cb4f-41a4-988b-a729ee7ae227"
      },
      "outputs": [
        {
          "name": "stdout",
          "output_type": "stream",
          "text": [
            "<class 'pandas.core.frame.DataFrame'>\n",
            "Int64Index: 62299 entries, 2 to 66616\n",
            "Columns: 543 entries, Date to Account_4300004 · DES -  Venta Comercializados\n",
            "dtypes: datetime64[ns](1), float64(3), int64(1), object(1), uint8(537)\n",
            "memory usage: 35.2+ MB\n"
          ]
        }
      ],
      "source": [
        "def clean_dataset(df):\n",
        "    assert isinstance(df, pd.DataFrame), \"df needs to be a pd.DataFrame\"\n",
        "    df.dropna(inplace=True)\n",
        "    indices_to_keep = ~df.isin([np.nan, np.inf, -np.inf]).any(1)\n",
        "    return df[indices_to_keep].astype(np.float64)\n",
        "df.info()"
      ]
    },
    {
      "cell_type": "code",
      "execution_count": null,
      "metadata": {
        "id": "9OhcQFaM8m71"
      },
      "outputs": [],
      "source": [
        "X_train, X_test, y_train, y_test = train_test_split(X, y, random_state = 3)"
      ]
    },
    {
      "cell_type": "code",
      "execution_count": null,
      "metadata": {
        "colab": {
          "base_uri": "https://localhost:8080/"
        },
        "id": "gD4Zh5SK8tH1",
        "outputId": "579a5506-f99f-4c8b-febe-e8df85a9643e"
      },
      "outputs": [
        {
          "data": {
            "text/plain": [
              "RandomForestRegressor(n_estimators=1)"
            ]
          },
          "execution_count": 42,
          "metadata": {},
          "output_type": "execute_result"
        }
      ],
      "source": [
        "Random_Forest = RandomForestRegressor(n_estimators=1)\n",
        "Random_Forest.fit(X_train, y_train)"
      ]
    },
    {
      "cell_type": "code",
      "execution_count": null,
      "metadata": {
        "colab": {
          "base_uri": "https://localhost:8080/"
        },
        "id": "6b4W0rOv4pxa",
        "outputId": "0ffd1184-7a5d-41b9-a56e-ec4cd8d30237"
      },
      "outputs": [
        {
          "data": {
            "text/plain": [
              "0.9975658700088315"
            ]
          },
          "execution_count": 43,
          "metadata": {},
          "output_type": "execute_result"
        }
      ],
      "source": [
        "Random_Forest.score(X_train, y_train)"
      ]
    },
    {
      "cell_type": "code",
      "execution_count": null,
      "metadata": {
        "colab": {
          "base_uri": "https://localhost:8080/"
        },
        "id": "vxVrZ1Kn9H16",
        "outputId": "bc5773f3-9b4c-45d2-843a-86a138ef5c22"
      },
      "outputs": [
        {
          "data": {
            "text/plain": [
              "0.9975325033791579"
            ]
          },
          "execution_count": 44,
          "metadata": {},
          "output_type": "execute_result"
        }
      ],
      "source": [
        "Random_Forest.score(X_test, y_test)"
      ]
    },
    {
      "cell_type": "markdown",
      "metadata": {
        "id": "292Myu4c6xJA"
      },
      "source": [
        "Null Model"
      ]
    },
    {
      "cell_type": "code",
      "execution_count": null,
      "metadata": {
        "colab": {
          "base_uri": "https://localhost:8080/"
        },
        "id": "5-v-KpGl4q03",
        "outputId": "bc8cb9ec-e052-4076-dc52-4bac50306918"
      },
      "outputs": [
        {
          "data": {
            "text/plain": [
              "Credit  \n",
              "0.00        0.172139\n",
              "30.48       0.011900\n",
              "33.60       0.009738\n",
              "19.08       0.009353\n",
              "25.68       0.008625\n",
              "              ...   \n",
              "191.04      0.000021\n",
              "190.56      0.000021\n",
              "189.72      0.000021\n",
              "189.36      0.000021\n",
              "23362.56    0.000021\n",
              "Length: 3441, dtype: float64"
            ]
          },
          "execution_count": 45,
          "metadata": {},
          "output_type": "execute_result"
        }
      ],
      "source": [
        "pd.DataFrame(y_train).value_counts(normalize=True)"
      ]
    },
    {
      "cell_type": "code",
      "execution_count": null,
      "metadata": {
        "colab": {
          "base_uri": "https://localhost:8080/"
        },
        "id": "_SmxvvDC6w18",
        "outputId": "f4b54035-28cb-4b2a-e3ab-6ab75e0087cc"
      },
      "outputs": [
        {
          "data": {
            "text/plain": [
              "[1,\n",
              " 10,\n",
              " 20,\n",
              " 30,\n",
              " 40,\n",
              " 50,\n",
              " 60,\n",
              " 70,\n",
              " 80,\n",
              " 90,\n",
              " 100,\n",
              " 110,\n",
              " 120,\n",
              " 130,\n",
              " 140,\n",
              " 150,\n",
              " 160,\n",
              " 170,\n",
              " 180,\n",
              " 190,\n",
              " 200,\n",
              " 210,\n",
              " 220,\n",
              " 230,\n",
              " 240,\n",
              " 250,\n",
              " 260,\n",
              " 270,\n",
              " 280,\n",
              " 290,\n",
              " 300]"
            ]
          },
          "execution_count": 46,
          "metadata": {},
          "output_type": "execute_result"
        }
      ],
      "source": [
        "estimator_range = [1] + list(range(10, 310, 10))\n",
        "estimator_range"
      ]
    },
    {
      "cell_type": "code",
      "execution_count": null,
      "metadata": {
        "id": "DDwpQU-O67q_"
      },
      "outputs": [],
      "source": [
        "#clf = RandomForestRegressor(n_estimators=10,\n",
        "#                                 random_state=1,\n",
        "#                                 bootstrap=True)\n",
        "# Lista para almacenar las precisiones promedio para cada valor de n_estimators:\n",
        "#scores = []\n",
        "# Use la división entrenamiento prueba con cada valor de n_estimators (Advertencia: ¡Lento!)\n",
        "#for estimator in estimator_range:\n",
        "#    clf = RandomForestRegressor(n_estimators=estimator,\n",
        "#                                 random_state=1,\n",
        "#                                 bootstrap=True)\n",
        "#    clf.fit(X_train, y_train)\n",
        "#    scores.append(clf.score(X_test, y_test))"
      ]
    },
    {
      "cell_type": "code",
      "execution_count": null,
      "metadata": {
        "id": "jQe5n2zn6-5B"
      },
      "outputs": [],
      "source": [
        "#fig, axes = plt.subplots(nrows = 1, ncols = 1, figsize = (5,5));\n",
        "#axes.plot(estimator_range, scores);\n",
        "#axes.set_xlabel('n_estimators', fontsize =20);\n",
        "#axes.set_ylabel('Accuracy', fontsize = 20);\n",
        "#axes.grid()"
      ]
    },
    {
      "cell_type": "code",
      "execution_count": null,
      "metadata": {
        "id": "jb-5xfgU7WO_"
      },
      "outputs": [],
      "source": [
        "#Bestimator = pd.DataFrame(scores)\n",
        "#Bestimator = Bestimator.set_axis(['scores'], axis=1, inplace=False)\n",
        "#Bestimator"
      ]
    },
    {
      "cell_type": "code",
      "execution_count": null,
      "metadata": {
        "id": "_hY9LX1t7Djh"
      },
      "outputs": [],
      "source": [
        "#Bestimator.sort_values(by='scores', ascending=False, inplace= True)\n",
        "#Bestimator"
      ]
    },
    {
      "cell_type": "code",
      "execution_count": null,
      "metadata": {
        "id": "Kun33u6F7G9e"
      },
      "outputs": [],
      "source": [
        "#estimator_range[:20]"
      ]
    },
    {
      "cell_type": "markdown",
      "metadata": {
        "id": "m8-Qkk4nFjom"
      },
      "source": [
        "KNN"
      ]
    },
    {
      "cell_type": "code",
      "execution_count": null,
      "metadata": {
        "id": "C4QkadlbFkeY"
      },
      "outputs": [],
      "source": [
        "from sklearn.neighbors import KNeighborsRegressor\n",
        "from sklearn.preprocessing import StandardScaler\n",
        "scaler = StandardScaler()\n",
        "scaler.fit(X)\n",
        "# Transform \n",
        "X = scaler.transform(X);"
      ]
    },
    {
      "cell_type": "code",
      "execution_count": null,
      "metadata": {
        "colab": {
          "base_uri": "https://localhost:8080/"
        },
        "id": "38jJFsLCGEY9",
        "outputId": "ff428c14-74e5-415d-c91f-b9ff516eb608"
      },
      "outputs": [
        {
          "name": "stdout",
          "output_type": "stream",
          "text": [
            "KNeighborsRegressor()\n"
          ]
        }
      ],
      "source": [
        "# We assign the KNN model to a variable\n",
        "Knn = KNeighborsRegressor(n_neighbors=5)\n",
        "print(Knn)"
      ]
    },
    {
      "cell_type": "code",
      "execution_count": null,
      "metadata": {
        "colab": {
          "base_uri": "https://localhost:8080/"
        },
        "id": "zCbBThnLGMmn",
        "outputId": "110d4e45-b1b9-47d2-aa00-bc0651603e21"
      },
      "outputs": [
        {
          "data": {
            "text/plain": [
              "KNeighborsRegressor()"
            ]
          },
          "execution_count": 54,
          "metadata": {},
          "output_type": "execute_result"
        }
      ],
      "source": [
        "Knn.fit(X_train, y_train)"
      ]
    },
    {
      "cell_type": "code",
      "execution_count": null,
      "metadata": {
        "colab": {
          "base_uri": "https://localhost:8080/"
        },
        "id": "OLYE55HvHKKE",
        "outputId": "8fb90bc8-0759-4f95-df83-46de13b3dd9b"
      },
      "outputs": [
        {
          "data": {
            "text/plain": [
              "0.9979836183048236"
            ]
          },
          "execution_count": 55,
          "metadata": {},
          "output_type": "execute_result"
        }
      ],
      "source": [
        "score = Knn.score(X_train, y_train)\n",
        "score"
      ]
    },
    {
      "cell_type": "code",
      "execution_count": null,
      "metadata": {
        "colab": {
          "base_uri": "https://localhost:8080/"
        },
        "id": "dEEH0rwEHSMS",
        "outputId": "82a64e3a-79d9-4e18-c210-f659b8dceb2d"
      },
      "outputs": [
        {
          "data": {
            "text/plain": [
              "0.9991776793273106"
            ]
          },
          "execution_count": 56,
          "metadata": {},
          "output_type": "execute_result"
        }
      ],
      "source": [
        "score2 = Knn.score(X_test, y_test)\n",
        "score2"
      ]
    },
    {
      "cell_type": "code",
      "execution_count": null,
      "metadata": {
        "id": "erXiBYrbw7NL"
      },
      "outputs": [],
      "source": [
        "scaler.fit(X)\n",
        "X = scaler.transform(X)"
      ]
    },
    {
      "cell_type": "code",
      "execution_count": null,
      "metadata": {
        "colab": {
          "base_uri": "https://localhost:8080/"
        },
        "id": "16MAkidQWD9j",
        "outputId": "66e76193-2e2f-4c3d-e123-55c7749d8f87"
      },
      "outputs": [
        {
          "data": {
            "text/plain": [
              "KNeighborsRegressor()"
            ]
          },
          "execution_count": 58,
          "metadata": {},
          "output_type": "execute_result"
        }
      ],
      "source": [
        "# then we let the KNN Study the training data set \n",
        "Knn.fit(X,y)"
      ]
    },
    {
      "cell_type": "code",
      "execution_count": null,
      "metadata": {
        "colab": {
          "background_save": true
        },
        "id": "SJQt2tQitXTM",
        "outputId": "dba36f2f-c94c-4d86-f007-c109911638c9"
      },
      "outputs": [
        {
          "data": {
            "text/plain": [
              "(62299,)"
            ]
          },
          "execution_count": 59,
          "metadata": {},
          "output_type": "execute_result"
        }
      ],
      "source": [
        "# And do the predictions considering the correlation of all the features of the training data set\n",
        "predictions = Knn.predict(X)\n",
        "predictions.shape"
      ]
    },
    {
      "cell_type": "code",
      "execution_count": null,
      "metadata": {
        "colab": {
          "background_save": true
        },
        "id": "bTmKZZjtztx_",
        "outputId": "08c9df80-b74a-44f2-8e83-d604c4d7d2b8"
      },
      "outputs": [
        {
          "data": {
            "text/plain": [
              "array([19.92, 24.96, 32.76, ...,  0.  ,  0.  ,  0.  ])"
            ]
          },
          "execution_count": 60,
          "metadata": {},
          "output_type": "execute_result"
        }
      ],
      "source": [
        "predictions"
      ]
    },
    {
      "cell_type": "code",
      "execution_count": null,
      "metadata": {
        "colab": {
          "background_save": true
        },
        "id": "-oF6Jilv6J66"
      },
      "outputs": [],
      "source": [
        "df['prediction'] = pd.Series(predictions)\n",
        "\n",
        "dfout = pd.merge(df,df['prediction'].dropna() .to_frame(),how = 'left',left_index = True,   right_index = True)"
      ]
    },
    {
      "cell_type": "code",
      "execution_count": null,
      "metadata": {
        "colab": {
          "background_save": true
        },
        "id": "KFkcE3jS9CSr",
        "outputId": "b614f778-1b4c-4b00-aaa6-210f9ac24e52"
      },
      "outputs": [
        {
          "data": {
            "text/html": [
              "\n",
              "  <div id=\"df-caa0e962-3de7-48d0-afa4-a3bb53220861\">\n",
              "    <div class=\"colab-df-container\">\n",
              "      <div>\n",
              "<style scoped>\n",
              "    .dataframe tbody tr th:only-of-type {\n",
              "        vertical-align: middle;\n",
              "    }\n",
              "\n",
              "    .dataframe tbody tr th {\n",
              "        vertical-align: top;\n",
              "    }\n",
              "\n",
              "    .dataframe thead th {\n",
              "        text-align: right;\n",
              "    }\n",
              "</style>\n",
              "<table border=\"1\" class=\"dataframe\">\n",
              "  <thead>\n",
              "    <tr style=\"text-align: right;\">\n",
              "      <th></th>\n",
              "      <th>Date</th>\n",
              "      <th>Code</th>\n",
              "      <th>Qty</th>\n",
              "      <th>U/M</th>\n",
              "      <th>Debit</th>\n",
              "      <th>Credit</th>\n",
              "      <th>Name_ACOSTA JAYA CARLOS ANDRES</th>\n",
              "      <th>Name_AGRICOLA KOMUNA S.A. AGRIKOMUNA</th>\n",
              "      <th>Name_AGUILAR HERRERA HUGO PAUL</th>\n",
              "      <th>Name_AKD INC.</th>\n",
              "      <th>...</th>\n",
              "      <th>Type_Credit Memo</th>\n",
              "      <th>Type_Invoice</th>\n",
              "      <th>Account_4100001 · ING - Ventas  Salsas</th>\n",
              "      <th>Account_4100002 · ING - Ventas Snacks</th>\n",
              "      <th>Account_4100003 · ING - Ventas Comercializados</th>\n",
              "      <th>Account_4300001 · DES -  Venta Salsas</th>\n",
              "      <th>Account_4300003 · DES -  Venta Snacks</th>\n",
              "      <th>Account_4300004 · DES -  Venta Comercializados</th>\n",
              "      <th>prediction_x</th>\n",
              "      <th>prediction_y</th>\n",
              "    </tr>\n",
              "  </thead>\n",
              "  <tbody>\n",
              "    <tr>\n",
              "      <th>2</th>\n",
              "      <td>2019-07-01</td>\n",
              "      <td>110213</td>\n",
              "      <td>1.0</td>\n",
              "      <td>12</td>\n",
              "      <td>0.0</td>\n",
              "      <td>19.92</td>\n",
              "      <td>0</td>\n",
              "      <td>0</td>\n",
              "      <td>0</td>\n",
              "      <td>0</td>\n",
              "      <td>...</td>\n",
              "      <td>0</td>\n",
              "      <td>1</td>\n",
              "      <td>1</td>\n",
              "      <td>0</td>\n",
              "      <td>0</td>\n",
              "      <td>0</td>\n",
              "      <td>0</td>\n",
              "      <td>0</td>\n",
              "      <td>32.76</td>\n",
              "      <td>32.76</td>\n",
              "    </tr>\n",
              "    <tr>\n",
              "      <th>3</th>\n",
              "      <td>2019-07-01</td>\n",
              "      <td>110700</td>\n",
              "      <td>1.0</td>\n",
              "      <td>12</td>\n",
              "      <td>0.0</td>\n",
              "      <td>24.96</td>\n",
              "      <td>0</td>\n",
              "      <td>0</td>\n",
              "      <td>0</td>\n",
              "      <td>0</td>\n",
              "      <td>...</td>\n",
              "      <td>0</td>\n",
              "      <td>1</td>\n",
              "      <td>1</td>\n",
              "      <td>0</td>\n",
              "      <td>0</td>\n",
              "      <td>0</td>\n",
              "      <td>0</td>\n",
              "      <td>0</td>\n",
              "      <td>38.16</td>\n",
              "      <td>38.16</td>\n",
              "    </tr>\n",
              "    <tr>\n",
              "      <th>4</th>\n",
              "      <td>2019-07-01</td>\n",
              "      <td>110714</td>\n",
              "      <td>1.0</td>\n",
              "      <td>12</td>\n",
              "      <td>0.0</td>\n",
              "      <td>32.76</td>\n",
              "      <td>0</td>\n",
              "      <td>0</td>\n",
              "      <td>0</td>\n",
              "      <td>0</td>\n",
              "      <td>...</td>\n",
              "      <td>0</td>\n",
              "      <td>1</td>\n",
              "      <td>1</td>\n",
              "      <td>0</td>\n",
              "      <td>0</td>\n",
              "      <td>0</td>\n",
              "      <td>0</td>\n",
              "      <td>0</td>\n",
              "      <td>24.96</td>\n",
              "      <td>24.96</td>\n",
              "    </tr>\n",
              "    <tr>\n",
              "      <th>5</th>\n",
              "      <td>2019-07-01</td>\n",
              "      <td>110606</td>\n",
              "      <td>2.0</td>\n",
              "      <td>12</td>\n",
              "      <td>0.0</td>\n",
              "      <td>38.16</td>\n",
              "      <td>0</td>\n",
              "      <td>0</td>\n",
              "      <td>0</td>\n",
              "      <td>0</td>\n",
              "      <td>...</td>\n",
              "      <td>0</td>\n",
              "      <td>1</td>\n",
              "      <td>1</td>\n",
              "      <td>0</td>\n",
              "      <td>0</td>\n",
              "      <td>0</td>\n",
              "      <td>0</td>\n",
              "      <td>0</td>\n",
              "      <td>60.72</td>\n",
              "      <td>60.72</td>\n",
              "    </tr>\n",
              "    <tr>\n",
              "      <th>6</th>\n",
              "      <td>2019-07-01</td>\n",
              "      <td>110700</td>\n",
              "      <td>1.0</td>\n",
              "      <td>12</td>\n",
              "      <td>0.0</td>\n",
              "      <td>24.96</td>\n",
              "      <td>0</td>\n",
              "      <td>0</td>\n",
              "      <td>0</td>\n",
              "      <td>0</td>\n",
              "      <td>...</td>\n",
              "      <td>0</td>\n",
              "      <td>1</td>\n",
              "      <td>1</td>\n",
              "      <td>0</td>\n",
              "      <td>0</td>\n",
              "      <td>0</td>\n",
              "      <td>0</td>\n",
              "      <td>0</td>\n",
              "      <td>32.88</td>\n",
              "      <td>32.88</td>\n",
              "    </tr>\n",
              "  </tbody>\n",
              "</table>\n",
              "<p>5 rows × 545 columns</p>\n",
              "</div>\n",
              "      <button class=\"colab-df-convert\" onclick=\"convertToInteractive('df-caa0e962-3de7-48d0-afa4-a3bb53220861')\"\n",
              "              title=\"Convert this dataframe to an interactive table.\"\n",
              "              style=\"display:none;\">\n",
              "        \n",
              "  <svg xmlns=\"http://www.w3.org/2000/svg\" height=\"24px\"viewBox=\"0 0 24 24\"\n",
              "       width=\"24px\">\n",
              "    <path d=\"M0 0h24v24H0V0z\" fill=\"none\"/>\n",
              "    <path d=\"M18.56 5.44l.94 2.06.94-2.06 2.06-.94-2.06-.94-.94-2.06-.94 2.06-2.06.94zm-11 1L8.5 8.5l.94-2.06 2.06-.94-2.06-.94L8.5 2.5l-.94 2.06-2.06.94zm10 10l.94 2.06.94-2.06 2.06-.94-2.06-.94-.94-2.06-.94 2.06-2.06.94z\"/><path d=\"M17.41 7.96l-1.37-1.37c-.4-.4-.92-.59-1.43-.59-.52 0-1.04.2-1.43.59L10.3 9.45l-7.72 7.72c-.78.78-.78 2.05 0 2.83L4 21.41c.39.39.9.59 1.41.59.51 0 1.02-.2 1.41-.59l7.78-7.78 2.81-2.81c.8-.78.8-2.07 0-2.86zM5.41 20L4 18.59l7.72-7.72 1.47 1.35L5.41 20z\"/>\n",
              "  </svg>\n",
              "      </button>\n",
              "      \n",
              "  <style>\n",
              "    .colab-df-container {\n",
              "      display:flex;\n",
              "      flex-wrap:wrap;\n",
              "      gap: 12px;\n",
              "    }\n",
              "\n",
              "    .colab-df-convert {\n",
              "      background-color: #E8F0FE;\n",
              "      border: none;\n",
              "      border-radius: 50%;\n",
              "      cursor: pointer;\n",
              "      display: none;\n",
              "      fill: #1967D2;\n",
              "      height: 32px;\n",
              "      padding: 0 0 0 0;\n",
              "      width: 32px;\n",
              "    }\n",
              "\n",
              "    .colab-df-convert:hover {\n",
              "      background-color: #E2EBFA;\n",
              "      box-shadow: 0px 1px 2px rgba(60, 64, 67, 0.3), 0px 1px 3px 1px rgba(60, 64, 67, 0.15);\n",
              "      fill: #174EA6;\n",
              "    }\n",
              "\n",
              "    [theme=dark] .colab-df-convert {\n",
              "      background-color: #3B4455;\n",
              "      fill: #D2E3FC;\n",
              "    }\n",
              "\n",
              "    [theme=dark] .colab-df-convert:hover {\n",
              "      background-color: #434B5C;\n",
              "      box-shadow: 0px 1px 3px 1px rgba(0, 0, 0, 0.15);\n",
              "      filter: drop-shadow(0px 1px 2px rgba(0, 0, 0, 0.3));\n",
              "      fill: #FFFFFF;\n",
              "    }\n",
              "  </style>\n",
              "\n",
              "      <script>\n",
              "        const buttonEl =\n",
              "          document.querySelector('#df-caa0e962-3de7-48d0-afa4-a3bb53220861 button.colab-df-convert');\n",
              "        buttonEl.style.display =\n",
              "          google.colab.kernel.accessAllowed ? 'block' : 'none';\n",
              "\n",
              "        async function convertToInteractive(key) {\n",
              "          const element = document.querySelector('#df-caa0e962-3de7-48d0-afa4-a3bb53220861');\n",
              "          const dataTable =\n",
              "            await google.colab.kernel.invokeFunction('convertToInteractive',\n",
              "                                                     [key], {});\n",
              "          if (!dataTable) return;\n",
              "\n",
              "          const docLinkHtml = 'Like what you see? Visit the ' +\n",
              "            '<a target=\"_blank\" href=https://colab.research.google.com/notebooks/data_table.ipynb>data table notebook</a>'\n",
              "            + ' to learn more about interactive tables.';\n",
              "          element.innerHTML = '';\n",
              "          dataTable['output_type'] = 'display_data';\n",
              "          await google.colab.output.renderOutput(dataTable, element);\n",
              "          const docLink = document.createElement('div');\n",
              "          docLink.innerHTML = docLinkHtml;\n",
              "          element.appendChild(docLink);\n",
              "        }\n",
              "      </script>\n",
              "    </div>\n",
              "  </div>\n",
              "  "
            ],
            "text/plain": [
              "        Date    Code  Qty  U/M  Debit  Credit  Name_ACOSTA JAYA CARLOS ANDRES  \\\n",
              "2 2019-07-01  110213  1.0   12    0.0   19.92                               0   \n",
              "3 2019-07-01  110700  1.0   12    0.0   24.96                               0   \n",
              "4 2019-07-01  110714  1.0   12    0.0   32.76                               0   \n",
              "5 2019-07-01  110606  2.0   12    0.0   38.16                               0   \n",
              "6 2019-07-01  110700  1.0   12    0.0   24.96                               0   \n",
              "\n",
              "   Name_AGRICOLA KOMUNA S.A. AGRIKOMUNA  Name_AGUILAR HERRERA HUGO PAUL  \\\n",
              "2                                     0                               0   \n",
              "3                                     0                               0   \n",
              "4                                     0                               0   \n",
              "5                                     0                               0   \n",
              "6                                     0                               0   \n",
              "\n",
              "   Name_AKD INC.  ...  Type_Credit Memo  Type_Invoice  \\\n",
              "2              0  ...                 0             1   \n",
              "3              0  ...                 0             1   \n",
              "4              0  ...                 0             1   \n",
              "5              0  ...                 0             1   \n",
              "6              0  ...                 0             1   \n",
              "\n",
              "   Account_4100001 · ING - Ventas  Salsas  \\\n",
              "2                                       1   \n",
              "3                                       1   \n",
              "4                                       1   \n",
              "5                                       1   \n",
              "6                                       1   \n",
              "\n",
              "   Account_4100002 · ING - Ventas Snacks  \\\n",
              "2                                      0   \n",
              "3                                      0   \n",
              "4                                      0   \n",
              "5                                      0   \n",
              "6                                      0   \n",
              "\n",
              "   Account_4100003 · ING - Ventas Comercializados  \\\n",
              "2                                               0   \n",
              "3                                               0   \n",
              "4                                               0   \n",
              "5                                               0   \n",
              "6                                               0   \n",
              "\n",
              "   Account_4300001 · DES -  Venta Salsas  \\\n",
              "2                                      0   \n",
              "3                                      0   \n",
              "4                                      0   \n",
              "5                                      0   \n",
              "6                                      0   \n",
              "\n",
              "   Account_4300003 · DES -  Venta Snacks  \\\n",
              "2                                      0   \n",
              "3                                      0   \n",
              "4                                      0   \n",
              "5                                      0   \n",
              "6                                      0   \n",
              "\n",
              "   Account_4300004 · DES -  Venta Comercializados  prediction_x  prediction_y  \n",
              "2                                               0         32.76         32.76  \n",
              "3                                               0         38.16         38.16  \n",
              "4                                               0         24.96         24.96  \n",
              "5                                               0         60.72         60.72  \n",
              "6                                               0         32.88         32.88  \n",
              "\n",
              "[5 rows x 545 columns]"
            ]
          },
          "execution_count": 62,
          "metadata": {},
          "output_type": "execute_result"
        }
      ],
      "source": [
        "dfout.head()"
      ]
    },
    {
      "cell_type": "code",
      "execution_count": null,
      "metadata": {
        "colab": {
          "background_save": true
        },
        "id": "9drkvIbM-kbb",
        "outputId": "dbd48447-6272-47de-a1bb-a10096759025"
      },
      "outputs": [
        {
          "name": "stdout",
          "output_type": "stream",
          "text": [
            "<class 'pandas.core.frame.DataFrame'>\n",
            "Int64Index: 62299 entries, 2 to 66616\n",
            "Columns: 545 entries, Date to prediction_y\n",
            "dtypes: datetime64[ns](1), float64(5), int64(1), object(1), uint8(537)\n",
            "memory usage: 38.2+ MB\n"
          ]
        }
      ],
      "source": [
        "dfout.info()"
      ]
    },
    {
      "cell_type": "code",
      "execution_count": null,
      "metadata": {
        "colab": {
          "background_save": true
        },
        "id": "UyDjDZd8-qwa",
        "outputId": "0563b95c-0590-4dd7-ad60-d7104b0f4af6"
      },
      "outputs": [
        {
          "data": {
            "text/html": [
              "\n",
              "  <div id=\"df-0660e63c-eee3-4f0b-96d4-253035b2c036\">\n",
              "    <div class=\"colab-df-container\">\n",
              "      <div>\n",
              "<style scoped>\n",
              "    .dataframe tbody tr th:only-of-type {\n",
              "        vertical-align: middle;\n",
              "    }\n",
              "\n",
              "    .dataframe tbody tr th {\n",
              "        vertical-align: top;\n",
              "    }\n",
              "\n",
              "    .dataframe thead th {\n",
              "        text-align: right;\n",
              "    }\n",
              "</style>\n",
              "<table border=\"1\" class=\"dataframe\">\n",
              "  <thead>\n",
              "    <tr style=\"text-align: right;\">\n",
              "      <th></th>\n",
              "      <th>Date</th>\n",
              "      <th>Code</th>\n",
              "      <th>Qty</th>\n",
              "      <th>U/M</th>\n",
              "      <th>Debit</th>\n",
              "      <th>Credit</th>\n",
              "      <th>Name_ACOSTA JAYA CARLOS ANDRES</th>\n",
              "      <th>Name_AGRICOLA KOMUNA S.A. AGRIKOMUNA</th>\n",
              "      <th>Name_AGUILAR HERRERA HUGO PAUL</th>\n",
              "      <th>Name_AKD INC.</th>\n",
              "      <th>...</th>\n",
              "      <th>Type_Credit Memo</th>\n",
              "      <th>Type_Invoice</th>\n",
              "      <th>Account_4100001 · ING - Ventas  Salsas</th>\n",
              "      <th>Account_4100002 · ING - Ventas Snacks</th>\n",
              "      <th>Account_4100003 · ING - Ventas Comercializados</th>\n",
              "      <th>Account_4300001 · DES -  Venta Salsas</th>\n",
              "      <th>Account_4300003 · DES -  Venta Snacks</th>\n",
              "      <th>Account_4300004 · DES -  Venta Comercializados</th>\n",
              "      <th>prediction_x</th>\n",
              "      <th>prediction_y</th>\n",
              "    </tr>\n",
              "  </thead>\n",
              "  <tbody>\n",
              "    <tr>\n",
              "      <th>66612</th>\n",
              "      <td>2022-06-29</td>\n",
              "      <td>310110</td>\n",
              "      <td>1.0</td>\n",
              "      <td>1</td>\n",
              "      <td>1.32</td>\n",
              "      <td>0.0</td>\n",
              "      <td>0</td>\n",
              "      <td>0</td>\n",
              "      <td>0</td>\n",
              "      <td>0</td>\n",
              "      <td>...</td>\n",
              "      <td>0</td>\n",
              "      <td>1</td>\n",
              "      <td>0</td>\n",
              "      <td>0</td>\n",
              "      <td>0</td>\n",
              "      <td>0</td>\n",
              "      <td>0</td>\n",
              "      <td>1</td>\n",
              "      <td>NaN</td>\n",
              "      <td>NaN</td>\n",
              "    </tr>\n",
              "    <tr>\n",
              "      <th>66613</th>\n",
              "      <td>2022-06-29</td>\n",
              "      <td>310111</td>\n",
              "      <td>1.0</td>\n",
              "      <td>1</td>\n",
              "      <td>1.39</td>\n",
              "      <td>0.0</td>\n",
              "      <td>0</td>\n",
              "      <td>0</td>\n",
              "      <td>0</td>\n",
              "      <td>0</td>\n",
              "      <td>...</td>\n",
              "      <td>0</td>\n",
              "      <td>1</td>\n",
              "      <td>0</td>\n",
              "      <td>0</td>\n",
              "      <td>0</td>\n",
              "      <td>0</td>\n",
              "      <td>0</td>\n",
              "      <td>1</td>\n",
              "      <td>NaN</td>\n",
              "      <td>NaN</td>\n",
              "    </tr>\n",
              "    <tr>\n",
              "      <th>66614</th>\n",
              "      <td>2022-06-29</td>\n",
              "      <td>310106</td>\n",
              "      <td>1.0</td>\n",
              "      <td>1</td>\n",
              "      <td>1.94</td>\n",
              "      <td>0.0</td>\n",
              "      <td>0</td>\n",
              "      <td>0</td>\n",
              "      <td>0</td>\n",
              "      <td>0</td>\n",
              "      <td>...</td>\n",
              "      <td>0</td>\n",
              "      <td>1</td>\n",
              "      <td>0</td>\n",
              "      <td>0</td>\n",
              "      <td>0</td>\n",
              "      <td>0</td>\n",
              "      <td>0</td>\n",
              "      <td>1</td>\n",
              "      <td>NaN</td>\n",
              "      <td>NaN</td>\n",
              "    </tr>\n",
              "    <tr>\n",
              "      <th>66615</th>\n",
              "      <td>2022-06-29</td>\n",
              "      <td>311501</td>\n",
              "      <td>1.0</td>\n",
              "      <td>1</td>\n",
              "      <td>1.53</td>\n",
              "      <td>0.0</td>\n",
              "      <td>0</td>\n",
              "      <td>0</td>\n",
              "      <td>0</td>\n",
              "      <td>0</td>\n",
              "      <td>...</td>\n",
              "      <td>0</td>\n",
              "      <td>1</td>\n",
              "      <td>0</td>\n",
              "      <td>0</td>\n",
              "      <td>0</td>\n",
              "      <td>0</td>\n",
              "      <td>0</td>\n",
              "      <td>1</td>\n",
              "      <td>NaN</td>\n",
              "      <td>NaN</td>\n",
              "    </tr>\n",
              "    <tr>\n",
              "      <th>66616</th>\n",
              "      <td>2022-06-29</td>\n",
              "      <td>311407</td>\n",
              "      <td>1.0</td>\n",
              "      <td>1</td>\n",
              "      <td>3.91</td>\n",
              "      <td>0.0</td>\n",
              "      <td>0</td>\n",
              "      <td>0</td>\n",
              "      <td>0</td>\n",
              "      <td>0</td>\n",
              "      <td>...</td>\n",
              "      <td>0</td>\n",
              "      <td>1</td>\n",
              "      <td>0</td>\n",
              "      <td>0</td>\n",
              "      <td>0</td>\n",
              "      <td>0</td>\n",
              "      <td>0</td>\n",
              "      <td>1</td>\n",
              "      <td>NaN</td>\n",
              "      <td>NaN</td>\n",
              "    </tr>\n",
              "  </tbody>\n",
              "</table>\n",
              "<p>5 rows × 545 columns</p>\n",
              "</div>\n",
              "      <button class=\"colab-df-convert\" onclick=\"convertToInteractive('df-0660e63c-eee3-4f0b-96d4-253035b2c036')\"\n",
              "              title=\"Convert this dataframe to an interactive table.\"\n",
              "              style=\"display:none;\">\n",
              "        \n",
              "  <svg xmlns=\"http://www.w3.org/2000/svg\" height=\"24px\"viewBox=\"0 0 24 24\"\n",
              "       width=\"24px\">\n",
              "    <path d=\"M0 0h24v24H0V0z\" fill=\"none\"/>\n",
              "    <path d=\"M18.56 5.44l.94 2.06.94-2.06 2.06-.94-2.06-.94-.94-2.06-.94 2.06-2.06.94zm-11 1L8.5 8.5l.94-2.06 2.06-.94-2.06-.94L8.5 2.5l-.94 2.06-2.06.94zm10 10l.94 2.06.94-2.06 2.06-.94-2.06-.94-.94-2.06-.94 2.06-2.06.94z\"/><path d=\"M17.41 7.96l-1.37-1.37c-.4-.4-.92-.59-1.43-.59-.52 0-1.04.2-1.43.59L10.3 9.45l-7.72 7.72c-.78.78-.78 2.05 0 2.83L4 21.41c.39.39.9.59 1.41.59.51 0 1.02-.2 1.41-.59l7.78-7.78 2.81-2.81c.8-.78.8-2.07 0-2.86zM5.41 20L4 18.59l7.72-7.72 1.47 1.35L5.41 20z\"/>\n",
              "  </svg>\n",
              "      </button>\n",
              "      \n",
              "  <style>\n",
              "    .colab-df-container {\n",
              "      display:flex;\n",
              "      flex-wrap:wrap;\n",
              "      gap: 12px;\n",
              "    }\n",
              "\n",
              "    .colab-df-convert {\n",
              "      background-color: #E8F0FE;\n",
              "      border: none;\n",
              "      border-radius: 50%;\n",
              "      cursor: pointer;\n",
              "      display: none;\n",
              "      fill: #1967D2;\n",
              "      height: 32px;\n",
              "      padding: 0 0 0 0;\n",
              "      width: 32px;\n",
              "    }\n",
              "\n",
              "    .colab-df-convert:hover {\n",
              "      background-color: #E2EBFA;\n",
              "      box-shadow: 0px 1px 2px rgba(60, 64, 67, 0.3), 0px 1px 3px 1px rgba(60, 64, 67, 0.15);\n",
              "      fill: #174EA6;\n",
              "    }\n",
              "\n",
              "    [theme=dark] .colab-df-convert {\n",
              "      background-color: #3B4455;\n",
              "      fill: #D2E3FC;\n",
              "    }\n",
              "\n",
              "    [theme=dark] .colab-df-convert:hover {\n",
              "      background-color: #434B5C;\n",
              "      box-shadow: 0px 1px 3px 1px rgba(0, 0, 0, 0.15);\n",
              "      filter: drop-shadow(0px 1px 2px rgba(0, 0, 0, 0.3));\n",
              "      fill: #FFFFFF;\n",
              "    }\n",
              "  </style>\n",
              "\n",
              "      <script>\n",
              "        const buttonEl =\n",
              "          document.querySelector('#df-0660e63c-eee3-4f0b-96d4-253035b2c036 button.colab-df-convert');\n",
              "        buttonEl.style.display =\n",
              "          google.colab.kernel.accessAllowed ? 'block' : 'none';\n",
              "\n",
              "        async function convertToInteractive(key) {\n",
              "          const element = document.querySelector('#df-0660e63c-eee3-4f0b-96d4-253035b2c036');\n",
              "          const dataTable =\n",
              "            await google.colab.kernel.invokeFunction('convertToInteractive',\n",
              "                                                     [key], {});\n",
              "          if (!dataTable) return;\n",
              "\n",
              "          const docLinkHtml = 'Like what you see? Visit the ' +\n",
              "            '<a target=\"_blank\" href=https://colab.research.google.com/notebooks/data_table.ipynb>data table notebook</a>'\n",
              "            + ' to learn more about interactive tables.';\n",
              "          element.innerHTML = '';\n",
              "          dataTable['output_type'] = 'display_data';\n",
              "          await google.colab.output.renderOutput(dataTable, element);\n",
              "          const docLink = document.createElement('div');\n",
              "          docLink.innerHTML = docLinkHtml;\n",
              "          element.appendChild(docLink);\n",
              "        }\n",
              "      </script>\n",
              "    </div>\n",
              "  </div>\n",
              "  "
            ],
            "text/plain": [
              "            Date    Code  Qty  U/M  Debit  Credit  \\\n",
              "66612 2022-06-29  310110  1.0    1   1.32     0.0   \n",
              "66613 2022-06-29  310111  1.0    1   1.39     0.0   \n",
              "66614 2022-06-29  310106  1.0    1   1.94     0.0   \n",
              "66615 2022-06-29  311501  1.0    1   1.53     0.0   \n",
              "66616 2022-06-29  311407  1.0    1   3.91     0.0   \n",
              "\n",
              "       Name_ACOSTA JAYA CARLOS ANDRES  Name_AGRICOLA KOMUNA S.A. AGRIKOMUNA  \\\n",
              "66612                               0                                     0   \n",
              "66613                               0                                     0   \n",
              "66614                               0                                     0   \n",
              "66615                               0                                     0   \n",
              "66616                               0                                     0   \n",
              "\n",
              "       Name_AGUILAR HERRERA HUGO PAUL  Name_AKD INC.  ...  Type_Credit Memo  \\\n",
              "66612                               0              0  ...                 0   \n",
              "66613                               0              0  ...                 0   \n",
              "66614                               0              0  ...                 0   \n",
              "66615                               0              0  ...                 0   \n",
              "66616                               0              0  ...                 0   \n",
              "\n",
              "       Type_Invoice  Account_4100001 · ING - Ventas  Salsas  \\\n",
              "66612             1                                       0   \n",
              "66613             1                                       0   \n",
              "66614             1                                       0   \n",
              "66615             1                                       0   \n",
              "66616             1                                       0   \n",
              "\n",
              "       Account_4100002 · ING - Ventas Snacks  \\\n",
              "66612                                      0   \n",
              "66613                                      0   \n",
              "66614                                      0   \n",
              "66615                                      0   \n",
              "66616                                      0   \n",
              "\n",
              "       Account_4100003 · ING - Ventas Comercializados  \\\n",
              "66612                                               0   \n",
              "66613                                               0   \n",
              "66614                                               0   \n",
              "66615                                               0   \n",
              "66616                                               0   \n",
              "\n",
              "       Account_4300001 · DES -  Venta Salsas  \\\n",
              "66612                                      0   \n",
              "66613                                      0   \n",
              "66614                                      0   \n",
              "66615                                      0   \n",
              "66616                                      0   \n",
              "\n",
              "       Account_4300003 · DES -  Venta Snacks  \\\n",
              "66612                                      0   \n",
              "66613                                      0   \n",
              "66614                                      0   \n",
              "66615                                      0   \n",
              "66616                                      0   \n",
              "\n",
              "       Account_4300004 · DES -  Venta Comercializados  prediction_x  \\\n",
              "66612                                               1           NaN   \n",
              "66613                                               1           NaN   \n",
              "66614                                               1           NaN   \n",
              "66615                                               1           NaN   \n",
              "66616                                               1           NaN   \n",
              "\n",
              "       prediction_y  \n",
              "66612           NaN  \n",
              "66613           NaN  \n",
              "66614           NaN  \n",
              "66615           NaN  \n",
              "66616           NaN  \n",
              "\n",
              "[5 rows x 545 columns]"
            ]
          },
          "execution_count": 64,
          "metadata": {},
          "output_type": "execute_result"
        }
      ],
      "source": [
        "dfout.tail()"
      ]
    },
    {
      "cell_type": "markdown",
      "metadata": {
        "id": "Q_mz4omuA2J_"
      },
      "source": [
        "### Prediccion de descuentos:"
      ]
    },
    {
      "cell_type": "code",
      "execution_count": null,
      "metadata": {
        "colab": {
          "background_save": true
        },
        "id": "T05vtduhA1BZ",
        "outputId": "16e74873-b36b-4719-e586-5afd11098260"
      },
      "outputs": [
        {
          "data": {
            "text/plain": [
              "(62299,)"
            ]
          },
          "execution_count": 65,
          "metadata": {},
          "output_type": "execute_result"
        }
      ],
      "source": [
        "yd = df.loc[:, 'Debit']\n",
        "yd.shape"
      ]
    },
    {
      "cell_type": "code",
      "execution_count": null,
      "metadata": {
        "colab": {
          "background_save": true
        },
        "id": "_ErajNTQA1Bc"
      },
      "outputs": [],
      "source": [
        "X_traind, X_testd, y_traind, y_testd = train_test_split(X, yd, random_state = 3)"
      ]
    },
    {
      "cell_type": "code",
      "execution_count": null,
      "metadata": {
        "colab": {
          "background_save": true
        },
        "id": "USU4_JwXBeS0",
        "outputId": "5b6ec774-0f4a-4a68-b201-1c5fd3b3ebfc"
      },
      "outputs": [
        {
          "data": {
            "text/plain": [
              "KNeighborsRegressor()"
            ]
          },
          "execution_count": 67,
          "metadata": {},
          "output_type": "execute_result"
        }
      ],
      "source": [
        "Knn.fit(X_traind, y_traind)"
      ]
    },
    {
      "cell_type": "code",
      "execution_count": null,
      "metadata": {
        "id": "_HsNnYcWBeS1"
      },
      "outputs": [],
      "source": [
        "scored = Knn.score(X_traind, y_traind)\n",
        "scored"
      ]
    },
    {
      "cell_type": "code",
      "execution_count": null,
      "metadata": {
        "id": "4jKO__bkBeS2"
      },
      "outputs": [],
      "source": [
        "score2d = Knn.score(X_testd, y_testd)\n",
        "score2d"
      ]
    },
    {
      "cell_type": "code",
      "execution_count": null,
      "metadata": {
        "id": "lj7tiMGJBeS3"
      },
      "outputs": [],
      "source": [
        "# then we let the KNN Study the training data set \n",
        "Knn.fit(X,yd)"
      ]
    },
    {
      "cell_type": "code",
      "execution_count": null,
      "metadata": {
        "id": "mHTkINf4BeS3"
      },
      "outputs": [],
      "source": [
        "# And do the predictions considering the correlation of all the features of the training data set\n",
        "predictionsd = Knn.predict(X)\n",
        "predictionsd.shape"
      ]
    },
    {
      "cell_type": "code",
      "execution_count": null,
      "metadata": {
        "id": "Yl1NTEc4BeS4"
      },
      "outputs": [],
      "source": [
        "predictionsd"
      ]
    },
    {
      "cell_type": "code",
      "execution_count": null,
      "metadata": {
        "id": "zzppotymBeS4"
      },
      "outputs": [],
      "source": [
        "df['predictiond'] = pd.Series(predictionsd)\n",
        "\n",
        "dfoutd = pd.merge(df,df['predictiond'].dropna() .to_frame(),how = 'left',left_index = True,   right_index = True)"
      ]
    },
    {
      "cell_type": "code",
      "execution_count": null,
      "metadata": {
        "id": "K8t_NHLFBeS5"
      },
      "outputs": [],
      "source": [
        "dfoutd.head()"
      ]
    },
    {
      "cell_type": "code",
      "execution_count": null,
      "metadata": {
        "id": "5Ho7zUnuBeS5"
      },
      "outputs": [],
      "source": [
        "dfoutd.drop(columns = ['predictiond_x'], inplace = True)\n",
        "dfoutd.info()"
      ]
    },
    {
      "cell_type": "code",
      "execution_count": null,
      "metadata": {
        "id": "_NZEfyJsGIVb"
      },
      "outputs": [],
      "source": [
        "#dfoutd = dfoutd.dropna(how = 'any')\n",
        "#dfoutd.info()\n"
      ]
    },
    {
      "cell_type": "code",
      "execution_count": null,
      "metadata": {
        "id": "Sv63hdVUrMsj"
      },
      "outputs": [],
      "source": [
        "dfoutd.tail()"
      ]
    },
    {
      "cell_type": "code",
      "execution_count": null,
      "metadata": {
        "id": "x0wYs78sKlgD"
      },
      "outputs": [],
      "source": [
        "# determining the name of the file\n",
        "#PrediccionesOle2022 = 'Dfoutd.xlsx'\n",
        "  \n",
        "# saving the excel\n",
        "#dfoutd.to_excel(PrediccionesOle2022)\n",
        "\n",
        "# Writer method\n",
        "\n",
        "writer=pd.ExcelWriter(r'dfoutd.xlsx')\n",
        "\n",
        "dfoutd.to_excel(writer,sheet_name='Predicciones',index= False)\n",
        "\n",
        "writer.save()\n",
        "\n"
      ]
    },
    {
      "cell_type": "markdown",
      "metadata": {
        "id": "-aKNX60gYD8x"
      },
      "source": [
        "As soon as we applied the Dummies method to the Categorical variables corresponding to the suppliers and the product names, we improved the models and reduced the overfit"
      ]
    }
  ],
  "metadata": {
    "colab": {
      "collapsed_sections": [],
      "provenance": [],
      "authorship_tag": "ABX9TyNHKX07PErLQK3znxK4e8+W",
      "include_colab_link": true
    },
    "kernelspec": {
      "display_name": "Python 3",
      "name": "python3"
    },
    "language_info": {
      "name": "python"
    }
  },
  "nbformat": 4,
  "nbformat_minor": 0
}